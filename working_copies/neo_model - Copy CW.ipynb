{
 "cells": [
  {
   "cell_type": "code",
   "execution_count": 1,
   "metadata": {},
   "outputs": [],
   "source": [
    "import pandas as pd\n",
    "import json"
   ]
  },
  {
   "cell_type": "code",
   "execution_count": 2,
   "metadata": {},
   "outputs": [],
   "source": [
    "# Import the data\n",
    "import pandas as pd\n",
    "import numpy as np\n",
    "from sklearn.model_selection import train_test_split\n",
    "from sklearn.metrics import balanced_accuracy_score\n",
    "from sklearn.preprocessing import OneHotEncoder, OrdinalEncoder\n"
   ]
  },
  {
   "cell_type": "code",
   "execution_count": 6,
   "metadata": {},
   "outputs": [
    {
     "name": "stdout",
     "output_type": "stream",
     "text": [
      "<class 'pandas.core.frame.DataFrame'>\n",
      "RangeIndex: 8218 entries, 0 to 8217\n",
      "Data columns (total 10 columns):\n",
      " #   Column                    Non-Null Count  Dtype  \n",
      "---  ------                    --------------  -----  \n",
      " 0   id                        8218 non-null   int64  \n",
      " 1   name                      8218 non-null   object \n",
      " 2   absolute_magnitude_h      8218 non-null   float64\n",
      " 3   est_diameter_min          8218 non-null   float64\n",
      " 4   est_diameter_max          8218 non-null   float64\n",
      " 5   relative_velocity         8218 non-null   float64\n",
      " 6   miss_distance             8218 non-null   float64\n",
      " 7   orbiting_body             8218 non-null   object \n",
      " 8   sentry_object             8218 non-null   int64  \n",
      " 9   is_potentially_hazardous  8218 non-null   int64  \n",
      "dtypes: float64(5), int64(3), object(2)\n",
      "memory usage: 642.2+ KB\n"
     ]
    }
   ],
   "source": [
    "# Create a DataFrame from the JSON file\n",
    "path = 'resources/neo_data.json'\n",
    "\n",
    "df = pd.read_json(path)\n",
    "df.info()"
   ]
  },
  {
   "cell_type": "code",
   "execution_count": 17,
   "metadata": {},
   "outputs": [
    {
     "data": {
      "text/html": [
       "<div>\n",
       "<style scoped>\n",
       "    .dataframe tbody tr th:only-of-type {\n",
       "        vertical-align: middle;\n",
       "    }\n",
       "\n",
       "    .dataframe tbody tr th {\n",
       "        vertical-align: top;\n",
       "    }\n",
       "\n",
       "    .dataframe thead th {\n",
       "        text-align: right;\n",
       "    }\n",
       "</style>\n",
       "<table border=\"1\" class=\"dataframe\">\n",
       "  <thead>\n",
       "    <tr style=\"text-align: right;\">\n",
       "      <th></th>\n",
       "      <th>id</th>\n",
       "      <th>name</th>\n",
       "      <th>absolute_magnitude_h</th>\n",
       "      <th>est_diameter_min</th>\n",
       "      <th>est_diameter_max</th>\n",
       "      <th>relative_velocity</th>\n",
       "      <th>miss_distance</th>\n",
       "      <th>orbiting_body</th>\n",
       "      <th>sentry_object</th>\n",
       "      <th>is_potentially_hazardous</th>\n",
       "    </tr>\n",
       "  </thead>\n",
       "  <tbody>\n",
       "    <tr>\n",
       "      <th>0</th>\n",
       "      <td>2478784</td>\n",
       "      <td>478784 (2012 UV136)</td>\n",
       "      <td>25.60</td>\n",
       "      <td>0.020163</td>\n",
       "      <td>0.045086</td>\n",
       "      <td>41072.828534</td>\n",
       "      <td>3.868955e+07</td>\n",
       "      <td>Earth</td>\n",
       "      <td>0</td>\n",
       "      <td>0</td>\n",
       "    </tr>\n",
       "    <tr>\n",
       "      <th>1</th>\n",
       "      <td>3092479</td>\n",
       "      <td>(2001 VH5)</td>\n",
       "      <td>21.16</td>\n",
       "      <td>0.155796</td>\n",
       "      <td>0.348369</td>\n",
       "      <td>51223.885782</td>\n",
       "      <td>4.771584e+07</td>\n",
       "      <td>Earth</td>\n",
       "      <td>0</td>\n",
       "      <td>0</td>\n",
       "    </tr>\n",
       "    <tr>\n",
       "      <th>2</th>\n",
       "      <td>3472549</td>\n",
       "      <td>(2009 UK20)</td>\n",
       "      <td>26.30</td>\n",
       "      <td>0.014607</td>\n",
       "      <td>0.032662</td>\n",
       "      <td>12712.104884</td>\n",
       "      <td>2.388379e+07</td>\n",
       "      <td>Earth</td>\n",
       "      <td>0</td>\n",
       "      <td>0</td>\n",
       "    </tr>\n",
       "    <tr>\n",
       "      <th>3</th>\n",
       "      <td>3827311</td>\n",
       "      <td>(2018 RY1)</td>\n",
       "      <td>24.44</td>\n",
       "      <td>0.034400</td>\n",
       "      <td>0.076920</td>\n",
       "      <td>25376.064524</td>\n",
       "      <td>4.844917e+07</td>\n",
       "      <td>Earth</td>\n",
       "      <td>0</td>\n",
       "      <td>0</td>\n",
       "    </tr>\n",
       "    <tr>\n",
       "      <th>4</th>\n",
       "      <td>3835821</td>\n",
       "      <td>(2018 UA3)</td>\n",
       "      <td>23.60</td>\n",
       "      <td>0.050647</td>\n",
       "      <td>0.113250</td>\n",
       "      <td>88941.661927</td>\n",
       "      <td>6.288475e+07</td>\n",
       "      <td>Earth</td>\n",
       "      <td>0</td>\n",
       "      <td>0</td>\n",
       "    </tr>\n",
       "  </tbody>\n",
       "</table>\n",
       "</div>"
      ],
      "text/plain": [
       "        id                 name  absolute_magnitude_h  est_diameter_min  \\\n",
       "0  2478784  478784 (2012 UV136)                 25.60          0.020163   \n",
       "1  3092479           (2001 VH5)                 21.16          0.155796   \n",
       "2  3472549          (2009 UK20)                 26.30          0.014607   \n",
       "3  3827311           (2018 RY1)                 24.44          0.034400   \n",
       "4  3835821           (2018 UA3)                 23.60          0.050647   \n",
       "\n",
       "   est_diameter_max  relative_velocity  miss_distance orbiting_body  \\\n",
       "0          0.045086       41072.828534   3.868955e+07         Earth   \n",
       "1          0.348369       51223.885782   4.771584e+07         Earth   \n",
       "2          0.032662       12712.104884   2.388379e+07         Earth   \n",
       "3          0.076920       25376.064524   4.844917e+07         Earth   \n",
       "4          0.113250       88941.661927   6.288475e+07         Earth   \n",
       "\n",
       "   sentry_object  is_potentially_hazardous  \n",
       "0              0                         0  \n",
       "1              0                         0  \n",
       "2              0                         0  \n",
       "3              0                         0  \n",
       "4              0                         0  "
      ]
     },
     "execution_count": 17,
     "metadata": {},
     "output_type": "execute_result"
    }
   ],
   "source": [
    "df.head(5)\n"
   ]
  },
  {
   "cell_type": "code",
   "execution_count": 40,
   "metadata": {},
   "outputs": [
    {
     "name": "stdout",
     "output_type": "stream",
     "text": [
      "<class 'pandas.core.frame.DataFrame'>\n",
      "RangeIndex: 10 entries, 0 to 9\n",
      "Data columns (total 8 columns):\n",
      " #   Column                    Non-Null Count  Dtype  \n",
      "---  ------                    --------------  -----  \n",
      " 0   name                      10 non-null     object \n",
      " 1   id                        10 non-null     int64  \n",
      " 2   absolute_magnitude_h      10 non-null     float64\n",
      " 3   est_diameter_min          10 non-null     float64\n",
      " 4   est_diameter_max          10 non-null     float64\n",
      " 5   relative_velocity         10 non-null     float64\n",
      " 6   miss_distance             10 non-null     float64\n",
      " 7   is_potentially_hazardous  10 non-null     int64  \n",
      "dtypes: float64(5), int64(2), object(1)\n",
      "memory usage: 772.0+ bytes\n"
     ]
    }
   ],
   "source": [
    "if 'orbiting_body' in df.columns:\n",
    "    df = df.drop(columns=['orbiting_body'])\n",
    "df.info()\n"
   ]
  },
  {
   "cell_type": "code",
   "execution_count": 41,
   "metadata": {},
   "outputs": [
    {
     "data": {
      "text/html": [
       "<div>\n",
       "<style scoped>\n",
       "    .dataframe tbody tr th:only-of-type {\n",
       "        vertical-align: middle;\n",
       "    }\n",
       "\n",
       "    .dataframe tbody tr th {\n",
       "        vertical-align: top;\n",
       "    }\n",
       "\n",
       "    .dataframe thead th {\n",
       "        text-align: right;\n",
       "    }\n",
       "</style>\n",
       "<table border=\"1\" class=\"dataframe\">\n",
       "  <thead>\n",
       "    <tr style=\"text-align: right;\">\n",
       "      <th></th>\n",
       "      <th>name</th>\n",
       "      <th>id</th>\n",
       "      <th>absolute_magnitude_h</th>\n",
       "      <th>est_diameter_min</th>\n",
       "      <th>est_diameter_max</th>\n",
       "      <th>relative_velocity</th>\n",
       "      <th>miss_distance</th>\n",
       "      <th>is_potentially_hazardous</th>\n",
       "    </tr>\n",
       "  </thead>\n",
       "  <tbody>\n",
       "    <tr>\n",
       "      <th>0</th>\n",
       "      <td>478784 (2012 UV136)</td>\n",
       "      <td>2478784</td>\n",
       "      <td>25.60</td>\n",
       "      <td>0.020163</td>\n",
       "      <td>0.045086</td>\n",
       "      <td>41072.828534</td>\n",
       "      <td>3.868955e+07</td>\n",
       "      <td>0</td>\n",
       "    </tr>\n",
       "    <tr>\n",
       "      <th>1</th>\n",
       "      <td>(2001 VH5)</td>\n",
       "      <td>3092479</td>\n",
       "      <td>21.16</td>\n",
       "      <td>0.155796</td>\n",
       "      <td>0.348369</td>\n",
       "      <td>51223.885782</td>\n",
       "      <td>4.771584e+07</td>\n",
       "      <td>0</td>\n",
       "    </tr>\n",
       "    <tr>\n",
       "      <th>2</th>\n",
       "      <td>(2009 UK20)</td>\n",
       "      <td>3472549</td>\n",
       "      <td>26.30</td>\n",
       "      <td>0.014607</td>\n",
       "      <td>0.032662</td>\n",
       "      <td>12712.104884</td>\n",
       "      <td>2.388379e+07</td>\n",
       "      <td>0</td>\n",
       "    </tr>\n",
       "    <tr>\n",
       "      <th>3</th>\n",
       "      <td>(2018 RY1)</td>\n",
       "      <td>3827311</td>\n",
       "      <td>24.44</td>\n",
       "      <td>0.034400</td>\n",
       "      <td>0.076920</td>\n",
       "      <td>25376.064524</td>\n",
       "      <td>4.844917e+07</td>\n",
       "      <td>0</td>\n",
       "    </tr>\n",
       "    <tr>\n",
       "      <th>4</th>\n",
       "      <td>(2018 UA3)</td>\n",
       "      <td>3835821</td>\n",
       "      <td>23.60</td>\n",
       "      <td>0.050647</td>\n",
       "      <td>0.113250</td>\n",
       "      <td>88941.661927</td>\n",
       "      <td>6.288475e+07</td>\n",
       "      <td>0</td>\n",
       "    </tr>\n",
       "  </tbody>\n",
       "</table>\n",
       "</div>"
      ],
      "text/plain": [
       "                  name       id  absolute_magnitude_h  est_diameter_min  \\\n",
       "0  478784 (2012 UV136)  2478784                 25.60          0.020163   \n",
       "1           (2001 VH5)  3092479                 21.16          0.155796   \n",
       "2          (2009 UK20)  3472549                 26.30          0.014607   \n",
       "3           (2018 RY1)  3827311                 24.44          0.034400   \n",
       "4           (2018 UA3)  3835821                 23.60          0.050647   \n",
       "\n",
       "   est_diameter_max  relative_velocity  miss_distance  \\\n",
       "0          0.045086       41072.828534   3.868955e+07   \n",
       "1          0.348369       51223.885782   4.771584e+07   \n",
       "2          0.032662       12712.104884   2.388379e+07   \n",
       "3          0.076920       25376.064524   4.844917e+07   \n",
       "4          0.113250       88941.661927   6.288475e+07   \n",
       "\n",
       "   is_potentially_hazardous  \n",
       "0                         0  \n",
       "1                         0  \n",
       "2                         0  \n",
       "3                         0  \n",
       "4                         0  "
      ]
     },
     "execution_count": 41,
     "metadata": {},
     "output_type": "execute_result"
    }
   ],
   "source": [
    "df.head(5)\n"
   ]
  },
  {
   "cell_type": "code",
   "execution_count": 42,
   "metadata": {},
   "outputs": [],
   "source": [
    "# Set up x and y variables\n",
    "X = df.copy()\n",
    "X = X.drop(\"is_potentially_hazardous\", axis=1)\n",
    "X = X.drop(\"name\", axis=1)\n",
    "X = X.drop(\"id\", axis=1)\n",
    "y = df[\"is_potentially_hazardous\"]\n"
   ]
  },
  {
   "cell_type": "code",
   "execution_count": 43,
   "metadata": {},
   "outputs": [],
   "source": [
    "# Split the data into training and testing sets\n",
    "X_train, X_test, y_train, y_test = train_test_split(X, y, random_state=78)\n"
   ]
  },
  {
   "cell_type": "code",
   "execution_count": 46,
   "metadata": {},
   "outputs": [],
   "source": [
    "# Creat and train a random forest model\n",
    "from sklearn.ensemble import RandomForestClassifier\n",
    "\n",
    "rf_model = RandomForestClassifier()\n",
    "rf_model = rf_model.fit(X_train, y_train)\n"
   ]
  },
  {
   "cell_type": "code",
   "execution_count": 47,
   "metadata": {},
   "outputs": [
    {
     "name": "stderr",
     "output_type": "stream",
     "text": [
      "c:\\Users\\catpa\\anaconda3\\envs\\dev\\Lib\\site-packages\\sklearn\\metrics\\_classification.py:395: UserWarning: A single label was found in 'y_true' and 'y_pred'. For the confusion matrix to have the correct shape, use the 'labels' parameter to pass all known labels.\n",
      "  warnings.warn(\n"
     ]
    },
    {
     "data": {
      "text/plain": [
       "1.0"
      ]
     },
     "execution_count": 47,
     "metadata": {},
     "output_type": "execute_result"
    }
   ],
   "source": [
    "# Check the model's balanced accuracy on the test set   NOTE TO SELF: SEE THE WARNING AND FIND THE LAVEL!!!\n",
    "y_pred = rf_model.predict(X_test)\n",
    "balanced_accuracy_score(y_test, y_pred)\n"
   ]
  },
  {
   "cell_type": "code",
   "execution_count": 48,
   "metadata": {},
   "outputs": [
    {
     "name": "stderr",
     "output_type": "stream",
     "text": [
      "c:\\Users\\catpa\\anaconda3\\envs\\dev\\Lib\\site-packages\\sklearn\\metrics\\_classification.py:395: UserWarning: A single label was found in 'y_true' and 'y_pred'. For the confusion matrix to have the correct shape, use the 'labels' parameter to pass all known labels.\n",
      "  warnings.warn(\n"
     ]
    },
    {
     "data": {
      "text/plain": [
       "1.0"
      ]
     },
     "execution_count": 48,
     "metadata": {},
     "output_type": "execute_result"
    }
   ],
   "source": [
    "# Check the model's balanced accuracy on the training set\n",
    "y_pred_train = rf_model.predict(X_train)\n",
    "balanced_accuracy_score(y_train, y_pred_train)\n"
   ]
  },
  {
   "cell_type": "code",
   "execution_count": 51,
   "metadata": {},
   "outputs": [
    {
     "name": "stderr",
     "output_type": "stream",
     "text": [
      "c:\\Users\\catpa\\anaconda3\\envs\\dev\\Lib\\site-packages\\sklearn\\metrics\\_classification.py:395: UserWarning: A single label was found in 'y_true' and 'y_pred'. For the confusion matrix to have the correct shape, use the 'labels' parameter to pass all known labels.\n",
      "  warnings.warn(\n",
      "c:\\Users\\catpa\\anaconda3\\envs\\dev\\Lib\\site-packages\\sklearn\\metrics\\_classification.py:395: UserWarning: A single label was found in 'y_true' and 'y_pred'. For the confusion matrix to have the correct shape, use the 'labels' parameter to pass all known labels.\n",
      "  warnings.warn(\n",
      "c:\\Users\\catpa\\anaconda3\\envs\\dev\\Lib\\site-packages\\sklearn\\metrics\\_classification.py:395: UserWarning: A single label was found in 'y_true' and 'y_pred'. For the confusion matrix to have the correct shape, use the 'labels' parameter to pass all known labels.\n",
      "  warnings.warn(\n",
      "c:\\Users\\catpa\\anaconda3\\envs\\dev\\Lib\\site-packages\\sklearn\\metrics\\_classification.py:395: UserWarning: A single label was found in 'y_true' and 'y_pred'. For the confusion matrix to have the correct shape, use the 'labels' parameter to pass all known labels.\n",
      "  warnings.warn(\n"
     ]
    },
    {
     "name": "stdout",
     "output_type": "stream",
     "text": [
      "Max depth: 10, Balanced accuracy: 1.0\n",
      "Max depth: 20, Balanced accuracy: 1.0\n",
      "Max depth: 30, Balanced accuracy: 1.0\n",
      "Max depth: 40, Balanced accuracy: 1.0\n",
      "Max depth: 50, Balanced accuracy: 1.0\n"
     ]
    },
    {
     "name": "stderr",
     "output_type": "stream",
     "text": [
      "c:\\Users\\catpa\\anaconda3\\envs\\dev\\Lib\\site-packages\\sklearn\\metrics\\_classification.py:395: UserWarning: A single label was found in 'y_true' and 'y_pred'. For the confusion matrix to have the correct shape, use the 'labels' parameter to pass all known labels.\n",
      "  warnings.warn(\n"
     ]
    }
   ],
   "source": [
    "# Try the following values for max_depth\n",
    "max_depths = [10, 20, 30, 40, 50]\n",
    "models = {'train_scores': [], 'test_scores': [], 'max_depths': max_depths}\n",
    "\n",
    "for max_depth in max_depths:\n",
    "    rf_model = RandomForestClassifier(max_depth=max_depth)\n",
    "    rf_model = rf_model.fit(X_train, y_train)\n",
    "    y_pred = rf_model.predict(X_test)\n",
    "    print(f\"Max depth: {max_depth}, Balanced accuracy: {balanced_accuracy_score(y_test, y_pred)}\")\n",
    "\n"
   ]
  },
  {
   "cell_type": "code",
   "execution_count": 54,
   "metadata": {},
   "outputs": [
    {
     "ename": "KeyError",
     "evalue": "10",
     "output_type": "error",
     "traceback": [
      "\u001b[1;31m---------------------------------------------------------------------------\u001b[0m",
      "\u001b[1;31mKeyError\u001b[0m                                  Traceback (most recent call last)",
      "Cell \u001b[1;32mIn[54], line 2\u001b[0m\n\u001b[0;32m      1\u001b[0m \u001b[38;5;66;03m# Create a list of values with the same length as the index\u001b[39;00m\n\u001b[1;32m----> 2\u001b[0m values \u001b[38;5;241m=\u001b[39m [\u001b[43mmodels\u001b[49m\u001b[43m[\u001b[49m\u001b[43mkey\u001b[49m\u001b[43m]\u001b[49m \u001b[38;5;28;01mfor\u001b[39;00m key \u001b[38;5;129;01min\u001b[39;00m max_depths]\n\u001b[0;32m      4\u001b[0m \u001b[38;5;66;03m# Create the DataFrame with the correct length of values\u001b[39;00m\n\u001b[0;32m      5\u001b[0m models_df \u001b[38;5;241m=\u001b[39m pd\u001b[38;5;241m.\u001b[39mDataFrame(values, index\u001b[38;5;241m=\u001b[39mmax_depths)\n",
      "\u001b[1;31mKeyError\u001b[0m: 10"
     ]
    }
   ],
   "source": [
    "# Create a list of values with the same length as the index\n",
    "values = [models[key] for key in max_depths]\n",
    "\n",
    "# Create the DataFrame with the correct length of values\n",
    "models_df = pd.DataFrame(values, index=max_depths)\n",
    "models_df\n"
   ]
  }
 ],
 "metadata": {
  "kernelspec": {
   "display_name": "dev",
   "language": "python",
   "name": "python3"
  },
  "language_info": {
   "codemirror_mode": {
    "name": "ipython",
    "version": 3
   },
   "file_extension": ".py",
   "mimetype": "text/x-python",
   "name": "python",
   "nbconvert_exporter": "python",
   "pygments_lexer": "ipython3",
   "version": "3.12.3"
  }
 },
 "nbformat": 4,
 "nbformat_minor": 2
}
