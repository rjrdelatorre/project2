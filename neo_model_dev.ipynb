{
 "cells": [
  {
   "cell_type": "code",
   "execution_count": 17,
   "metadata": {},
   "outputs": [],
   "source": [
    "import pandas as pd\n",
    "import json\n",
    "\n",
    "# Import the data\n",
    "import numpy as np\n",
    "from sklearn.model_selection import train_test_split\n",
    "from sklearn.metrics import balanced_accuracy_score\n",
    "from sklearn.preprocessing import OneHotEncoder, OrdinalEncoder\n",
    "\n",
    "from sklearn.preprocessing import StandardScaler, MinMaxScaler\n",
    "from sklearn.linear_model import LogisticRegression\n",
    "from sklearn.svm import SVC \n",
    "from sklearn.neighbors import KNeighborsClassifier\n",
    "from sklearn.tree import DecisionTreeClassifier\n",
    "from sklearn.ensemble import RandomForestClassifier"
   ]
  },
  {
   "cell_type": "code",
   "execution_count": 5,
   "metadata": {},
   "outputs": [
    {
     "name": "stdout",
     "output_type": "stream",
     "text": [
      "<class 'pandas.core.frame.DataFrame'>\n",
      "RangeIndex: 8218 entries, 0 to 8217\n",
      "Data columns (total 10 columns):\n",
      " #   Column                    Non-Null Count  Dtype  \n",
      "---  ------                    --------------  -----  \n",
      " 0   id                        8218 non-null   int64  \n",
      " 1   name                      8218 non-null   object \n",
      " 2   absolute_magnitude_h      8218 non-null   float64\n",
      " 3   est_diameter_min          8218 non-null   float64\n",
      " 4   est_diameter_max          8218 non-null   float64\n",
      " 5   relative_velocity         8218 non-null   float64\n",
      " 6   miss_distance             8218 non-null   float64\n",
      " 7   orbiting_body             8218 non-null   object \n",
      " 8   sentry_object             8218 non-null   int64  \n",
      " 9   is_potentially_hazardous  8218 non-null   int64  \n",
      "dtypes: float64(5), int64(3), object(2)\n",
      "memory usage: 642.2+ KB\n"
     ]
    }
   ],
   "source": [
    "# Create a DataFrame from the JSON file\n",
    "path = 'resources/neo_data.json'\n",
    "\n",
    "df_original = pd.read_json(path)\n",
    "df_original.info()\n"
   ]
  },
  {
   "cell_type": "code",
   "execution_count": 6,
   "metadata": {},
   "outputs": [],
   "source": [
    "df_columns_removed = df_original.copy()\n",
    "\n",
    "'''\n",
    "    Drop the columns that serve to identify the Near Earth Object, which are\n",
    "    assigned by NASA and not scientifically descriptive of the object itself.\n",
    "'''\n",
    "\n",
    "# Drop the 'name' column\n",
    "df_columns_removed.drop('name', axis=1, inplace=True)\n",
    "\n",
    "# Drop the 'orbiting_body' column\n",
    "df_columns_removed.drop('orbiting_body', axis=1, inplace=True)\n",
    "\n",
    "# Drop the 'id' column\n",
    "df_columns_removed.drop('id', axis=1, inplace=True)"
   ]
  },
  {
   "cell_type": "code",
   "execution_count": 7,
   "metadata": {},
   "outputs": [
    {
     "name": "stdout",
     "output_type": "stream",
     "text": [
      "<class 'pandas.core.frame.DataFrame'>\n",
      "RangeIndex: 8218 entries, 0 to 8217\n",
      "Data columns (total 7 columns):\n",
      " #   Column                    Non-Null Count  Dtype  \n",
      "---  ------                    --------------  -----  \n",
      " 0   absolute_magnitude_h      8218 non-null   float64\n",
      " 1   est_diameter_min          8218 non-null   float64\n",
      " 2   est_diameter_max          8218 non-null   float64\n",
      " 3   relative_velocity         8218 non-null   float64\n",
      " 4   miss_distance             8218 non-null   float64\n",
      " 5   sentry_object             8218 non-null   int64  \n",
      " 6   is_potentially_hazardous  8218 non-null   int64  \n",
      "dtypes: float64(5), int64(2)\n",
      "memory usage: 449.5 KB\n"
     ]
    }
   ],
   "source": [
    "df_columns_removed.info()"
   ]
  },
  {
   "cell_type": "code",
   "execution_count": 9,
   "metadata": {},
   "outputs": [
    {
     "data": {
      "text/html": [
       "<div>\n",
       "<style scoped>\n",
       "    .dataframe tbody tr th:only-of-type {\n",
       "        vertical-align: middle;\n",
       "    }\n",
       "\n",
       "    .dataframe tbody tr th {\n",
       "        vertical-align: top;\n",
       "    }\n",
       "\n",
       "    .dataframe thead th {\n",
       "        text-align: right;\n",
       "    }\n",
       "</style>\n",
       "<table border=\"1\" class=\"dataframe\">\n",
       "  <thead>\n",
       "    <tr style=\"text-align: right;\">\n",
       "      <th></th>\n",
       "      <th>absolute_magnitude_h</th>\n",
       "      <th>est_diameter_min</th>\n",
       "      <th>est_diameter_max</th>\n",
       "      <th>relative_velocity</th>\n",
       "      <th>miss_distance</th>\n",
       "      <th>sentry_object</th>\n",
       "    </tr>\n",
       "  </thead>\n",
       "  <tbody>\n",
       "    <tr>\n",
       "      <th>0</th>\n",
       "      <td>25.60</td>\n",
       "      <td>0.020163</td>\n",
       "      <td>0.045086</td>\n",
       "      <td>41072.828534</td>\n",
       "      <td>3.868955e+07</td>\n",
       "      <td>0</td>\n",
       "    </tr>\n",
       "    <tr>\n",
       "      <th>1</th>\n",
       "      <td>21.16</td>\n",
       "      <td>0.155796</td>\n",
       "      <td>0.348369</td>\n",
       "      <td>51223.885782</td>\n",
       "      <td>4.771584e+07</td>\n",
       "      <td>0</td>\n",
       "    </tr>\n",
       "    <tr>\n",
       "      <th>2</th>\n",
       "      <td>26.30</td>\n",
       "      <td>0.014607</td>\n",
       "      <td>0.032662</td>\n",
       "      <td>12712.104884</td>\n",
       "      <td>2.388379e+07</td>\n",
       "      <td>0</td>\n",
       "    </tr>\n",
       "    <tr>\n",
       "      <th>3</th>\n",
       "      <td>24.44</td>\n",
       "      <td>0.034400</td>\n",
       "      <td>0.076920</td>\n",
       "      <td>25376.064524</td>\n",
       "      <td>4.844917e+07</td>\n",
       "      <td>0</td>\n",
       "    </tr>\n",
       "    <tr>\n",
       "      <th>4</th>\n",
       "      <td>23.60</td>\n",
       "      <td>0.050647</td>\n",
       "      <td>0.113250</td>\n",
       "      <td>88941.661927</td>\n",
       "      <td>6.288475e+07</td>\n",
       "      <td>0</td>\n",
       "    </tr>\n",
       "  </tbody>\n",
       "</table>\n",
       "</div>"
      ],
      "text/plain": [
       "   absolute_magnitude_h  est_diameter_min  est_diameter_max  \\\n",
       "0                 25.60          0.020163          0.045086   \n",
       "1                 21.16          0.155796          0.348369   \n",
       "2                 26.30          0.014607          0.032662   \n",
       "3                 24.44          0.034400          0.076920   \n",
       "4                 23.60          0.050647          0.113250   \n",
       "\n",
       "   relative_velocity  miss_distance  sentry_object  \n",
       "0       41072.828534   3.868955e+07              0  \n",
       "1       51223.885782   4.771584e+07              0  \n",
       "2       12712.104884   2.388379e+07              0  \n",
       "3       25376.064524   4.844917e+07              0  \n",
       "4       88941.661927   6.288475e+07              0  "
      ]
     },
     "execution_count": 9,
     "metadata": {},
     "output_type": "execute_result"
    }
   ],
   "source": [
    "# Define the features set and drop the target column\n",
    "X = df_columns_removed.copy()\n",
    "X.drop('is_potentially_hazardous', axis=1, inplace=True)\n",
    "X.head()"
   ]
  },
  {
   "cell_type": "code",
   "execution_count": 24,
   "metadata": {},
   "outputs": [
    {
     "data": {
      "text/plain": [
       "0    0\n",
       "1    0\n",
       "2    0\n",
       "3    0\n",
       "4    0\n",
       "Name: is_potentially_hazardous, dtype: int64"
      ]
     },
     "execution_count": 24,
     "metadata": {},
     "output_type": "execute_result"
    }
   ],
   "source": [
    "# Define the target vector\n",
    "y = df_columns_removed['is_potentially_hazardous'].copy()\n",
    "y[:5]"
   ]
  },
  {
   "cell_type": "code",
   "execution_count": 25,
   "metadata": {},
   "outputs": [],
   "source": [
    "# Split the data into training and testing sets\n",
    "X_train, X_test, y_train, y_test = train_test_split(X, y, random_state=78)"
   ]
  },
  {
   "cell_type": "code",
   "execution_count": 26,
   "metadata": {},
   "outputs": [
    {
     "data": {
      "text/plain": [
       "array([[ 1.09778354, -0.47152658, -0.47152658, -0.79797486,  1.65207245,\n",
       "        -0.245377  ],\n",
       "       [ 0.43401193, -0.39557784, -0.39557784, -0.39874631,  0.45099066,\n",
       "        -0.245377  ],\n",
       "       [ 0.79171108, -0.44413588, -0.44413588, -0.77043553, -0.9726628 ,\n",
       "        -0.245377  ],\n",
       "       ...,\n",
       "       [ 0.67739485, -0.4309042 , -0.4309042 , -0.63553589, -1.12959817,\n",
       "        -0.245377  ],\n",
       "       [-0.27401111, -0.20404563, -0.20404563, -0.55904761, -0.55003616,\n",
       "        -0.245377  ],\n",
       "       [ 1.06090734, -0.46875375, -0.46875375, -0.81100614,  1.16565367,\n",
       "        -0.245377  ]])"
      ]
     },
     "execution_count": 26,
     "metadata": {},
     "output_type": "execute_result"
    }
   ],
   "source": [
    "# No testing has been done yet to determine the data is distrubuted normally.\n",
    "# We will use both the StandardScaler and the MinMaxScaler to determine which\n",
    "# one is best for this dataset. Let's start with the StandardScaler.\n",
    "standard_scaler = StandardScaler().fit(X_train)\n",
    "X_train_scaled = standard_scaler.transform(X_train)\n",
    "X_train_scaled"
   ]
  },
  {
   "cell_type": "code",
   "execution_count": 27,
   "metadata": {},
   "outputs": [
    {
     "data": {
      "text/plain": [
       "array([[-1.51305144,  1.00297937,  1.00297937,  1.26557985,  0.83453882,\n",
       "        -0.245377  ],\n",
       "       [ 0.37132239, -0.38460183, -0.38460183, -0.90277169, -0.8850526 ,\n",
       "        -0.245377  ],\n",
       "       [-0.18182061, -0.23953223, -0.23953223, -0.35660015, -0.19164171,\n",
       "        -0.245377  ],\n",
       "       ...,\n",
       "       [ 0.58889197, -0.41928123, -0.41928123, -1.32144064, -0.51966709,\n",
       "        -0.245377  ],\n",
       "       [ 0.03943659, -0.30974506, -0.30974506, -0.73727885,  1.1297422 ,\n",
       "        -0.245377  ],\n",
       "       [ 1.13097212, -0.47391526, -0.47391526, -1.24773121, -1.07862912,\n",
       "        -0.245377  ]])"
      ]
     },
     "execution_count": 27,
     "metadata": {},
     "output_type": "execute_result"
    }
   ],
   "source": [
    "# Scale the testing dataset\n",
    "X_test_scaled = standard_scaler.transform(X_test)\n",
    "X_test_scaled"
   ]
  },
  {
   "cell_type": "code",
   "execution_count": 28,
   "metadata": {},
   "outputs": [
    {
     "name": "stdout",
     "output_type": "stream",
     "text": [
      "Scaled data min/max (StandardScaler):\n",
      "Training data min: -3.6297453248308886\n",
      "Training data max: 21.029146296594423\n",
      "Testing data min: -3.4564271840361647\n",
      "Testing data max: 16.833201185394756\n"
     ]
    }
   ],
   "source": [
    "# Check the max and min of the scaled training and testing sets\n",
    "print(\"Scaled data min/max (StandardScaler):\")\n",
    "print(\"Training data min:\",X_train_scaled.min())\n",
    "print(\"Training data max:\",X_train_scaled.max())\n",
    "print(\"Testing data min:\",X_test_scaled.min())\n",
    "print(\"Testing data max:\",X_test_scaled.max())"
   ]
  },
  {
   "cell_type": "code",
   "execution_count": 29,
   "metadata": {},
   "outputs": [
    {
     "data": {
      "text/plain": [
       "array([[0.70131291, 0.00250873, 0.00250873, 0.15494274, 0.93560181,\n",
       "        0.        ],\n",
       "       [0.60284464, 0.00603226, 0.00603226, 0.2156308 , 0.56394385,\n",
       "        0.        ],\n",
       "       [0.6559081 , 0.00377948, 0.00377948, 0.15912909, 0.12341421,\n",
       "        0.        ],\n",
       "       ...,\n",
       "       [0.63894967, 0.00439335, 0.00439335, 0.17963563, 0.07485276,\n",
       "        0.        ],\n",
       "       [0.49781182, 0.01491811, 0.01491811, 0.19126287, 0.25419011,\n",
       "        0.        ],\n",
       "       [0.69584245, 0.00263737, 0.00263737, 0.15296181, 0.78508632,\n",
       "        0.        ]])"
      ]
     },
     "execution_count": 29,
     "metadata": {},
     "output_type": "execute_result"
    }
   ],
   "source": [
    "# Try the MinMaxScaler\n",
    "minmax_scaler = MinMaxScaler().fit(X_train)\n",
    "X_train_minmax = minmax_scaler.transform(X_train)\n",
    "X_train_minmax"
   ]
  },
  {
   "cell_type": "code",
   "execution_count": 30,
   "metadata": {},
   "outputs": [
    {
     "data": {
      "text/plain": [
       "array([[0.31400438, 0.07091621, 0.07091621, 0.46863054, 0.68262746,\n",
       "        0.        ],\n",
       "       [0.59354486, 0.00654147, 0.00654147, 0.13901223, 0.15052396,\n",
       "        0.        ],\n",
       "       [0.51148796, 0.01327176, 0.01327176, 0.22203758, 0.36509026,\n",
       "        0.        ],\n",
       "       ...,\n",
       "       [0.62582057, 0.00493258, 0.00493258, 0.07536897, 0.2635874 ,\n",
       "        0.        ],\n",
       "       [0.54431072, 0.01001434, 0.01001434, 0.16416934, 0.77397402,\n",
       "        0.        ],\n",
       "       [0.70623632, 0.00239791, 0.00239791, 0.08657379, 0.09062442,\n",
       "        0.        ]])"
      ]
     },
     "execution_count": 30,
     "metadata": {},
     "output_type": "execute_result"
    }
   ],
   "source": [
    "X_test_minmax = minmax_scaler.transform(X_test)\n",
    "X_test_minmax"
   ]
  },
  {
   "cell_type": "code",
   "execution_count": 31,
   "metadata": {},
   "outputs": [
    {
     "name": "stdout",
     "output_type": "stream",
     "text": [
      "Scaled data min/max (MinMaxScaler):\n",
      "Training data min: 0.0\n",
      "Training data max: 1.0000000000000002\n",
      "Testing data min: 0.0\n",
      "Testing data max: 1.0107488564339902\n"
     ]
    }
   ],
   "source": [
    "# Check the max and min of the scaled training and testing sets\n",
    "print(\"Scaled data min/max (MinMaxScaler):\")\n",
    "print(\"Training data min:\",X_train_minmax.min())\n",
    "print(\"Training data max:\",X_train_minmax.max())\n",
    "print(\"Testing data min:\",X_test_minmax.min())\n",
    "print(\"Testing data max:\",X_test_minmax.max())"
   ]
  },
  {
   "cell_type": "code",
   "execution_count": 32,
   "metadata": {},
   "outputs": [
    {
     "data": {
      "text/html": [
       "<style>#sk-container-id-2 {color: black;}#sk-container-id-2 pre{padding: 0;}#sk-container-id-2 div.sk-toggleable {background-color: white;}#sk-container-id-2 label.sk-toggleable__label {cursor: pointer;display: block;width: 100%;margin-bottom: 0;padding: 0.3em;box-sizing: border-box;text-align: center;}#sk-container-id-2 label.sk-toggleable__label-arrow:before {content: \"▸\";float: left;margin-right: 0.25em;color: #696969;}#sk-container-id-2 label.sk-toggleable__label-arrow:hover:before {color: black;}#sk-container-id-2 div.sk-estimator:hover label.sk-toggleable__label-arrow:before {color: black;}#sk-container-id-2 div.sk-toggleable__content {max-height: 0;max-width: 0;overflow: hidden;text-align: left;background-color: #f0f8ff;}#sk-container-id-2 div.sk-toggleable__content pre {margin: 0.2em;color: black;border-radius: 0.25em;background-color: #f0f8ff;}#sk-container-id-2 input.sk-toggleable__control:checked~div.sk-toggleable__content {max-height: 200px;max-width: 100%;overflow: auto;}#sk-container-id-2 input.sk-toggleable__control:checked~label.sk-toggleable__label-arrow:before {content: \"▾\";}#sk-container-id-2 div.sk-estimator input.sk-toggleable__control:checked~label.sk-toggleable__label {background-color: #d4ebff;}#sk-container-id-2 div.sk-label input.sk-toggleable__control:checked~label.sk-toggleable__label {background-color: #d4ebff;}#sk-container-id-2 input.sk-hidden--visually {border: 0;clip: rect(1px 1px 1px 1px);clip: rect(1px, 1px, 1px, 1px);height: 1px;margin: -1px;overflow: hidden;padding: 0;position: absolute;width: 1px;}#sk-container-id-2 div.sk-estimator {font-family: monospace;background-color: #f0f8ff;border: 1px dotted black;border-radius: 0.25em;box-sizing: border-box;margin-bottom: 0.5em;}#sk-container-id-2 div.sk-estimator:hover {background-color: #d4ebff;}#sk-container-id-2 div.sk-parallel-item::after {content: \"\";width: 100%;border-bottom: 1px solid gray;flex-grow: 1;}#sk-container-id-2 div.sk-label:hover label.sk-toggleable__label {background-color: #d4ebff;}#sk-container-id-2 div.sk-serial::before {content: \"\";position: absolute;border-left: 1px solid gray;box-sizing: border-box;top: 0;bottom: 0;left: 50%;z-index: 0;}#sk-container-id-2 div.sk-serial {display: flex;flex-direction: column;align-items: center;background-color: white;padding-right: 0.2em;padding-left: 0.2em;position: relative;}#sk-container-id-2 div.sk-item {position: relative;z-index: 1;}#sk-container-id-2 div.sk-parallel {display: flex;align-items: stretch;justify-content: center;background-color: white;position: relative;}#sk-container-id-2 div.sk-item::before, #sk-container-id-2 div.sk-parallel-item::before {content: \"\";position: absolute;border-left: 1px solid gray;box-sizing: border-box;top: 0;bottom: 0;left: 50%;z-index: -1;}#sk-container-id-2 div.sk-parallel-item {display: flex;flex-direction: column;z-index: 1;position: relative;background-color: white;}#sk-container-id-2 div.sk-parallel-item:first-child::after {align-self: flex-end;width: 50%;}#sk-container-id-2 div.sk-parallel-item:last-child::after {align-self: flex-start;width: 50%;}#sk-container-id-2 div.sk-parallel-item:only-child::after {width: 0;}#sk-container-id-2 div.sk-dashed-wrapped {border: 1px dashed gray;margin: 0 0.4em 0.5em 0.4em;box-sizing: border-box;padding-bottom: 0.4em;background-color: white;}#sk-container-id-2 div.sk-label label {font-family: monospace;font-weight: bold;display: inline-block;line-height: 1.2em;}#sk-container-id-2 div.sk-label-container {text-align: center;}#sk-container-id-2 div.sk-container {/* jupyter's `normalize.less` sets `[hidden] { display: none; }` but bootstrap.min.css set `[hidden] { display: none !important; }` so we also need the `!important` here to be able to override the default hidden behavior on the sphinx rendered scikit-learn.org. See: https://github.com/scikit-learn/scikit-learn/issues/21755 */display: inline-block !important;position: relative;}#sk-container-id-2 div.sk-text-repr-fallback {display: none;}</style><div id=\"sk-container-id-2\" class=\"sk-top-container\"><div class=\"sk-text-repr-fallback\"><pre>SVC(kernel=&#x27;linear&#x27;)</pre><b>In a Jupyter environment, please rerun this cell to show the HTML representation or trust the notebook. <br />On GitHub, the HTML representation is unable to render, please try loading this page with nbviewer.org.</b></div><div class=\"sk-container\" hidden><div class=\"sk-item\"><div class=\"sk-estimator sk-toggleable\"><input class=\"sk-toggleable__control sk-hidden--visually\" id=\"sk-estimator-id-2\" type=\"checkbox\" checked><label for=\"sk-estimator-id-2\" class=\"sk-toggleable__label sk-toggleable__label-arrow\">SVC</label><div class=\"sk-toggleable__content\"><pre>SVC(kernel=&#x27;linear&#x27;)</pre></div></div></div></div></div>"
      ],
      "text/plain": [
       "SVC(kernel='linear')"
      ]
     },
     "execution_count": 32,
     "metadata": {},
     "output_type": "execute_result"
    }
   ],
   "source": [
    "svc_standard = SVC(kernel='linear')\n",
    "svc_standard.fit(X_train_scaled, y_train)"
   ]
  },
  {
   "cell_type": "code",
   "execution_count": 34,
   "metadata": {},
   "outputs": [
    {
     "name": "stdout",
     "output_type": "stream",
     "text": [
      "Train Accuracy: 0.935\n",
      "Test Accuracy: 0.927\n"
     ]
    }
   ],
   "source": [
    "# Validate the model by checking the model accuracy with model.score\n",
    "print('Train Accuracy: %.3f' % svc_standard.score(X_train_scaled, y_train))\n",
    "print('Test Accuracy: %.3f' % svc_standard.score(X_test_scaled, y_test))"
   ]
  }
 ],
 "metadata": {
  "kernelspec": {
   "display_name": "dev",
   "language": "python",
   "name": "python3"
  },
  "language_info": {
   "codemirror_mode": {
    "name": "ipython",
    "version": 3
   },
   "file_extension": ".py",
   "mimetype": "text/x-python",
   "name": "python",
   "nbconvert_exporter": "python",
   "pygments_lexer": "ipython3",
   "version": "3.10.13"
  }
 },
 "nbformat": 4,
 "nbformat_minor": 2
}
