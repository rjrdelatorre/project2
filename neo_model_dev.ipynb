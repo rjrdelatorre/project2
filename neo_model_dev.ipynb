{
 "cells": [
  {
   "cell_type": "code",
   "execution_count": 1,
   "metadata": {},
   "outputs": [],
   "source": [
    "import pandas as pd\n",
    "import json\n",
    "\n",
    "# Import the data\n",
    "import numpy as np\n",
    "from sklearn.model_selection import train_test_split\n",
    "from sklearn.metrics import (balanced_accuracy_score,\n",
    "                             classification_report, confusion_matrix)\n",
    "from sklearn.preprocessing import OneHotEncoder, OrdinalEncoder\n",
    "\n",
    "from sklearn.preprocessing import StandardScaler, MinMaxScaler\n",
    "from sklearn.linear_model import LogisticRegression\n",
    "from sklearn.svm import SVC \n",
    "from sklearn.neighbors import KNeighborsClassifier\n",
    "from sklearn.tree import DecisionTreeClassifier\n",
    "from sklearn.ensemble import RandomForestClassifier"
   ]
  },
  {
   "cell_type": "code",
   "execution_count": 2,
   "metadata": {},
   "outputs": [
    {
     "name": "stdout",
     "output_type": "stream",
     "text": [
      "<class 'pandas.core.frame.DataFrame'>\n",
      "RangeIndex: 8218 entries, 0 to 8217\n",
      "Data columns (total 10 columns):\n",
      " #   Column                    Non-Null Count  Dtype  \n",
      "---  ------                    --------------  -----  \n",
      " 0   id                        8218 non-null   int64  \n",
      " 1   name                      8218 non-null   object \n",
      " 2   absolute_magnitude_h      8218 non-null   float64\n",
      " 3   est_diameter_min          8218 non-null   float64\n",
      " 4   est_diameter_max          8218 non-null   float64\n",
      " 5   relative_velocity         8218 non-null   float64\n",
      " 6   miss_distance             8218 non-null   float64\n",
      " 7   orbiting_body             8218 non-null   object \n",
      " 8   sentry_object             8218 non-null   int64  \n",
      " 9   is_potentially_hazardous  8218 non-null   int64  \n",
      "dtypes: float64(5), int64(3), object(2)\n",
      "memory usage: 642.2+ KB\n"
     ]
    }
   ],
   "source": [
    "# Create a DataFrame from the JSON file\n",
    "path = 'resources/neo_data.json'\n",
    "\n",
    "df_original = pd.read_json(path)\n",
    "df_original.info()\n"
   ]
  },
  {
   "cell_type": "code",
   "execution_count": 3,
   "metadata": {},
   "outputs": [],
   "source": [
    "def remove_unnecessary_columns(df):\n",
    "    '''\n",
    "        Drop the columns that serve to identify the Near Earth Object, which are\n",
    "        assigned by NASA and not scientifically descriptive of the object itself.\n",
    "        Return a dataframe without the unnecessary columns.\n",
    "    '''\n",
    "    # Create a new DataFrame\n",
    "    df_columns_removed = df.copy()\n",
    "    superfluous_columns = ['name', 'id', 'orbiting_body']\n",
    "    # Drop the superfluous columns\n",
    "    df_columns_removed.drop(superfluous_columns, axis=1, inplace=True)\n",
    "    return df_columns_removed\n",
    "\n",
    "base_df = remove_unnecessary_columns(df_original)"
   ]
  },
  {
   "cell_type": "code",
   "execution_count": 4,
   "metadata": {},
   "outputs": [
    {
     "name": "stdout",
     "output_type": "stream",
     "text": [
      "<class 'pandas.core.frame.DataFrame'>\n",
      "RangeIndex: 8218 entries, 0 to 8217\n",
      "Data columns (total 7 columns):\n",
      " #   Column                    Non-Null Count  Dtype  \n",
      "---  ------                    --------------  -----  \n",
      " 0   absolute_magnitude_h      8218 non-null   float64\n",
      " 1   est_diameter_min          8218 non-null   float64\n",
      " 2   est_diameter_max          8218 non-null   float64\n",
      " 3   relative_velocity         8218 non-null   float64\n",
      " 4   miss_distance             8218 non-null   float64\n",
      " 5   sentry_object             8218 non-null   int64  \n",
      " 6   is_potentially_hazardous  8218 non-null   int64  \n",
      "dtypes: float64(5), int64(2)\n",
      "memory usage: 449.5 KB\n"
     ]
    }
   ],
   "source": [
    "base_df.info()"
   ]
  },
  {
   "cell_type": "code",
   "execution_count": 5,
   "metadata": {},
   "outputs": [
    {
     "data": {
      "text/html": [
       "<div>\n",
       "<style scoped>\n",
       "    .dataframe tbody tr th:only-of-type {\n",
       "        vertical-align: middle;\n",
       "    }\n",
       "\n",
       "    .dataframe tbody tr th {\n",
       "        vertical-align: top;\n",
       "    }\n",
       "\n",
       "    .dataframe thead th {\n",
       "        text-align: right;\n",
       "    }\n",
       "</style>\n",
       "<table border=\"1\" class=\"dataframe\">\n",
       "  <thead>\n",
       "    <tr style=\"text-align: right;\">\n",
       "      <th></th>\n",
       "      <th>absolute_magnitude_h</th>\n",
       "      <th>est_diameter_min</th>\n",
       "      <th>est_diameter_max</th>\n",
       "      <th>relative_velocity</th>\n",
       "      <th>miss_distance</th>\n",
       "      <th>sentry_object</th>\n",
       "    </tr>\n",
       "  </thead>\n",
       "  <tbody>\n",
       "    <tr>\n",
       "      <th>0</th>\n",
       "      <td>25.60</td>\n",
       "      <td>0.020163</td>\n",
       "      <td>0.045086</td>\n",
       "      <td>41072.828534</td>\n",
       "      <td>3.868955e+07</td>\n",
       "      <td>0</td>\n",
       "    </tr>\n",
       "    <tr>\n",
       "      <th>1</th>\n",
       "      <td>21.16</td>\n",
       "      <td>0.155796</td>\n",
       "      <td>0.348369</td>\n",
       "      <td>51223.885782</td>\n",
       "      <td>4.771584e+07</td>\n",
       "      <td>0</td>\n",
       "    </tr>\n",
       "    <tr>\n",
       "      <th>2</th>\n",
       "      <td>26.30</td>\n",
       "      <td>0.014607</td>\n",
       "      <td>0.032662</td>\n",
       "      <td>12712.104884</td>\n",
       "      <td>2.388379e+07</td>\n",
       "      <td>0</td>\n",
       "    </tr>\n",
       "    <tr>\n",
       "      <th>3</th>\n",
       "      <td>24.44</td>\n",
       "      <td>0.034400</td>\n",
       "      <td>0.076920</td>\n",
       "      <td>25376.064524</td>\n",
       "      <td>4.844917e+07</td>\n",
       "      <td>0</td>\n",
       "    </tr>\n",
       "    <tr>\n",
       "      <th>4</th>\n",
       "      <td>23.60</td>\n",
       "      <td>0.050647</td>\n",
       "      <td>0.113250</td>\n",
       "      <td>88941.661927</td>\n",
       "      <td>6.288475e+07</td>\n",
       "      <td>0</td>\n",
       "    </tr>\n",
       "  </tbody>\n",
       "</table>\n",
       "</div>"
      ],
      "text/plain": [
       "   absolute_magnitude_h  est_diameter_min  est_diameter_max  \\\n",
       "0                 25.60          0.020163          0.045086   \n",
       "1                 21.16          0.155796          0.348369   \n",
       "2                 26.30          0.014607          0.032662   \n",
       "3                 24.44          0.034400          0.076920   \n",
       "4                 23.60          0.050647          0.113250   \n",
       "\n",
       "   relative_velocity  miss_distance  sentry_object  \n",
       "0       41072.828534   3.868955e+07              0  \n",
       "1       51223.885782   4.771584e+07              0  \n",
       "2       12712.104884   2.388379e+07              0  \n",
       "3       25376.064524   4.844917e+07              0  \n",
       "4       88941.661927   6.288475e+07              0  "
      ]
     },
     "execution_count": 5,
     "metadata": {},
     "output_type": "execute_result"
    }
   ],
   "source": [
    "def get_features_set(df):\n",
    "    X = df.copy()\n",
    "    # Drop the target column\n",
    "    X.drop('is_potentially_hazardous', axis=1, inplace=True)\n",
    "    return X\n",
    "\n",
    "# Define the features set and drop the target column\n",
    "X = get_features_set(base_df)\n",
    "X.head()"
   ]
  },
  {
   "cell_type": "code",
   "execution_count": 6,
   "metadata": {},
   "outputs": [
    {
     "data": {
      "text/plain": [
       "0    0\n",
       "1    0\n",
       "2    0\n",
       "3    0\n",
       "4    0\n",
       "Name: is_potentially_hazardous, dtype: int64"
      ]
     },
     "execution_count": 6,
     "metadata": {},
     "output_type": "execute_result"
    }
   ],
   "source": [
    "# Define the target vector\n",
    "y = base_df['is_potentially_hazardous'].copy()\n",
    "y[:5]"
   ]
  },
  {
   "cell_type": "code",
   "execution_count": 7,
   "metadata": {},
   "outputs": [
    {
     "data": {
      "text/plain": [
       "is_potentially_hazardous\n",
       "0    7666\n",
       "1     552\n",
       "Name: count, dtype: int64"
      ]
     },
     "execution_count": 7,
     "metadata": {},
     "output_type": "execute_result"
    }
   ],
   "source": [
    "# check value_counts\n",
    "y.value_counts()"
   ]
  },
  {
   "cell_type": "code",
   "execution_count": 8,
   "metadata": {},
   "outputs": [],
   "source": [
    "# Split the data into training and testing sets\n",
    "X_train, X_test, y_train, y_test = train_test_split(X, y, random_state=78)"
   ]
  },
  {
   "cell_type": "code",
   "execution_count": 9,
   "metadata": {},
   "outputs": [
    {
     "data": {
      "text/plain": [
       "array([[ 1.09778354, -0.47152658, -0.47152658, -0.79797486,  1.65207245,\n",
       "        -0.245377  ],\n",
       "       [ 0.43401193, -0.39557784, -0.39557784, -0.39874631,  0.45099066,\n",
       "        -0.245377  ],\n",
       "       [ 0.79171108, -0.44413588, -0.44413588, -0.77043553, -0.9726628 ,\n",
       "        -0.245377  ],\n",
       "       ...,\n",
       "       [ 0.67739485, -0.4309042 , -0.4309042 , -0.63553589, -1.12959817,\n",
       "        -0.245377  ],\n",
       "       [-0.27401111, -0.20404563, -0.20404563, -0.55904761, -0.55003616,\n",
       "        -0.245377  ],\n",
       "       [ 1.06090734, -0.46875375, -0.46875375, -0.81100614,  1.16565367,\n",
       "        -0.245377  ]])"
      ]
     },
     "execution_count": 9,
     "metadata": {},
     "output_type": "execute_result"
    }
   ],
   "source": [
    "# No testing has been done yet to determine the data is distrubuted normally.\n",
    "# We will use both the StandardScaler and the MinMaxScaler to determine which\n",
    "# one is best for this dataset. Let's start with the StandardScaler.\n",
    "standard_scaler = StandardScaler().fit(X_train)\n",
    "X_train_scaled = standard_scaler.transform(X_train)\n",
    "X_train_scaled"
   ]
  },
  {
   "cell_type": "code",
   "execution_count": 10,
   "metadata": {},
   "outputs": [
    {
     "data": {
      "text/plain": [
       "array([[-1.51305144,  1.00297937,  1.00297937,  1.26557985,  0.83453882,\n",
       "        -0.245377  ],\n",
       "       [ 0.37132239, -0.38460183, -0.38460183, -0.90277169, -0.8850526 ,\n",
       "        -0.245377  ],\n",
       "       [-0.18182061, -0.23953223, -0.23953223, -0.35660015, -0.19164171,\n",
       "        -0.245377  ],\n",
       "       ...,\n",
       "       [ 0.58889197, -0.41928123, -0.41928123, -1.32144064, -0.51966709,\n",
       "        -0.245377  ],\n",
       "       [ 0.03943659, -0.30974506, -0.30974506, -0.73727885,  1.1297422 ,\n",
       "        -0.245377  ],\n",
       "       [ 1.13097212, -0.47391526, -0.47391526, -1.24773121, -1.07862912,\n",
       "        -0.245377  ]])"
      ]
     },
     "execution_count": 10,
     "metadata": {},
     "output_type": "execute_result"
    }
   ],
   "source": [
    "# Scale the testing dataset\n",
    "X_test_scaled = standard_scaler.transform(X_test)\n",
    "X_test_scaled"
   ]
  },
  {
   "cell_type": "code",
   "execution_count": 11,
   "metadata": {},
   "outputs": [
    {
     "name": "stdout",
     "output_type": "stream",
     "text": [
      "Scaled data min/max (StandardScaler):\n",
      "Training data min: -3.6297453248308886\n",
      "Training data max: 21.029146296594423\n",
      "Testing data min: -3.4564271840361647\n",
      "Testing data max: 16.833201185394756\n"
     ]
    }
   ],
   "source": [
    "# Check the max and min of the scaled training and testing sets\n",
    "print(\"Scaled data min/max (StandardScaler):\")\n",
    "print(\"Training data min:\",X_train_scaled.min())\n",
    "print(\"Training data max:\",X_train_scaled.max())\n",
    "print(\"Testing data min:\",X_test_scaled.min())\n",
    "print(\"Testing data max:\",X_test_scaled.max())"
   ]
  },
  {
   "cell_type": "code",
   "execution_count": 12,
   "metadata": {},
   "outputs": [
    {
     "data": {
      "text/plain": [
       "array([[0.70131291, 0.00250873, 0.00250873, 0.15494274, 0.93560181,\n",
       "        0.        ],\n",
       "       [0.60284464, 0.00603226, 0.00603226, 0.2156308 , 0.56394385,\n",
       "        0.        ],\n",
       "       [0.6559081 , 0.00377948, 0.00377948, 0.15912909, 0.12341421,\n",
       "        0.        ],\n",
       "       ...,\n",
       "       [0.63894967, 0.00439335, 0.00439335, 0.17963563, 0.07485276,\n",
       "        0.        ],\n",
       "       [0.49781182, 0.01491811, 0.01491811, 0.19126287, 0.25419011,\n",
       "        0.        ],\n",
       "       [0.69584245, 0.00263737, 0.00263737, 0.15296181, 0.78508632,\n",
       "        0.        ]])"
      ]
     },
     "execution_count": 12,
     "metadata": {},
     "output_type": "execute_result"
    }
   ],
   "source": [
    "# Try the MinMaxScaler\n",
    "minmax_scaler = MinMaxScaler().fit(X_train)\n",
    "X_train_minmax = minmax_scaler.transform(X_train)\n",
    "X_train_minmax"
   ]
  },
  {
   "cell_type": "code",
   "execution_count": 13,
   "metadata": {},
   "outputs": [
    {
     "data": {
      "text/plain": [
       "array([[0.31400438, 0.07091621, 0.07091621, 0.46863054, 0.68262746,\n",
       "        0.        ],\n",
       "       [0.59354486, 0.00654147, 0.00654147, 0.13901223, 0.15052396,\n",
       "        0.        ],\n",
       "       [0.51148796, 0.01327176, 0.01327176, 0.22203758, 0.36509026,\n",
       "        0.        ],\n",
       "       ...,\n",
       "       [0.62582057, 0.00493258, 0.00493258, 0.07536897, 0.2635874 ,\n",
       "        0.        ],\n",
       "       [0.54431072, 0.01001434, 0.01001434, 0.16416934, 0.77397402,\n",
       "        0.        ],\n",
       "       [0.70623632, 0.00239791, 0.00239791, 0.08657379, 0.09062442,\n",
       "        0.        ]])"
      ]
     },
     "execution_count": 13,
     "metadata": {},
     "output_type": "execute_result"
    }
   ],
   "source": [
    "X_test_minmax = minmax_scaler.transform(X_test)\n",
    "X_test_minmax"
   ]
  },
  {
   "cell_type": "code",
   "execution_count": 14,
   "metadata": {},
   "outputs": [
    {
     "name": "stdout",
     "output_type": "stream",
     "text": [
      "Scaled data min/max (MinMaxScaler):\n",
      "Training data min: 0.0\n",
      "Training data max: 1.0000000000000002\n",
      "Testing data min: 0.0\n",
      "Testing data max: 1.0107488564339902\n"
     ]
    }
   ],
   "source": [
    "# Check the max and min of the scaled training and testing sets\n",
    "print(\"Scaled data min/max (MinMaxScaler):\")\n",
    "print(\"Training data min:\",X_train_minmax.min())\n",
    "print(\"Training data max:\",X_train_minmax.max())\n",
    "print(\"Testing data min:\",X_test_minmax.min())\n",
    "print(\"Testing data max:\",X_test_minmax.max())"
   ]
  },
  {
   "cell_type": "code",
   "execution_count": null,
   "metadata": {},
   "outputs": [],
   "source": [
    "# SVC, KNN, DecisionTree model CW\n",
    "# RandomForest RD"
   ]
  },
  {
   "cell_type": "code",
   "execution_count": 15,
   "metadata": {},
   "outputs": [
    {
     "data": {
      "text/html": [
       "<style>#sk-container-id-1 {color: black;}#sk-container-id-1 pre{padding: 0;}#sk-container-id-1 div.sk-toggleable {background-color: white;}#sk-container-id-1 label.sk-toggleable__label {cursor: pointer;display: block;width: 100%;margin-bottom: 0;padding: 0.3em;box-sizing: border-box;text-align: center;}#sk-container-id-1 label.sk-toggleable__label-arrow:before {content: \"▸\";float: left;margin-right: 0.25em;color: #696969;}#sk-container-id-1 label.sk-toggleable__label-arrow:hover:before {color: black;}#sk-container-id-1 div.sk-estimator:hover label.sk-toggleable__label-arrow:before {color: black;}#sk-container-id-1 div.sk-toggleable__content {max-height: 0;max-width: 0;overflow: hidden;text-align: left;background-color: #f0f8ff;}#sk-container-id-1 div.sk-toggleable__content pre {margin: 0.2em;color: black;border-radius: 0.25em;background-color: #f0f8ff;}#sk-container-id-1 input.sk-toggleable__control:checked~div.sk-toggleable__content {max-height: 200px;max-width: 100%;overflow: auto;}#sk-container-id-1 input.sk-toggleable__control:checked~label.sk-toggleable__label-arrow:before {content: \"▾\";}#sk-container-id-1 div.sk-estimator input.sk-toggleable__control:checked~label.sk-toggleable__label {background-color: #d4ebff;}#sk-container-id-1 div.sk-label input.sk-toggleable__control:checked~label.sk-toggleable__label {background-color: #d4ebff;}#sk-container-id-1 input.sk-hidden--visually {border: 0;clip: rect(1px 1px 1px 1px);clip: rect(1px, 1px, 1px, 1px);height: 1px;margin: -1px;overflow: hidden;padding: 0;position: absolute;width: 1px;}#sk-container-id-1 div.sk-estimator {font-family: monospace;background-color: #f0f8ff;border: 1px dotted black;border-radius: 0.25em;box-sizing: border-box;margin-bottom: 0.5em;}#sk-container-id-1 div.sk-estimator:hover {background-color: #d4ebff;}#sk-container-id-1 div.sk-parallel-item::after {content: \"\";width: 100%;border-bottom: 1px solid gray;flex-grow: 1;}#sk-container-id-1 div.sk-label:hover label.sk-toggleable__label {background-color: #d4ebff;}#sk-container-id-1 div.sk-serial::before {content: \"\";position: absolute;border-left: 1px solid gray;box-sizing: border-box;top: 0;bottom: 0;left: 50%;z-index: 0;}#sk-container-id-1 div.sk-serial {display: flex;flex-direction: column;align-items: center;background-color: white;padding-right: 0.2em;padding-left: 0.2em;position: relative;}#sk-container-id-1 div.sk-item {position: relative;z-index: 1;}#sk-container-id-1 div.sk-parallel {display: flex;align-items: stretch;justify-content: center;background-color: white;position: relative;}#sk-container-id-1 div.sk-item::before, #sk-container-id-1 div.sk-parallel-item::before {content: \"\";position: absolute;border-left: 1px solid gray;box-sizing: border-box;top: 0;bottom: 0;left: 50%;z-index: -1;}#sk-container-id-1 div.sk-parallel-item {display: flex;flex-direction: column;z-index: 1;position: relative;background-color: white;}#sk-container-id-1 div.sk-parallel-item:first-child::after {align-self: flex-end;width: 50%;}#sk-container-id-1 div.sk-parallel-item:last-child::after {align-self: flex-start;width: 50%;}#sk-container-id-1 div.sk-parallel-item:only-child::after {width: 0;}#sk-container-id-1 div.sk-dashed-wrapped {border: 1px dashed gray;margin: 0 0.4em 0.5em 0.4em;box-sizing: border-box;padding-bottom: 0.4em;background-color: white;}#sk-container-id-1 div.sk-label label {font-family: monospace;font-weight: bold;display: inline-block;line-height: 1.2em;}#sk-container-id-1 div.sk-label-container {text-align: center;}#sk-container-id-1 div.sk-container {/* jupyter's `normalize.less` sets `[hidden] { display: none; }` but bootstrap.min.css set `[hidden] { display: none !important; }` so we also need the `!important` here to be able to override the default hidden behavior on the sphinx rendered scikit-learn.org. See: https://github.com/scikit-learn/scikit-learn/issues/21755 */display: inline-block !important;position: relative;}#sk-container-id-1 div.sk-text-repr-fallback {display: none;}</style><div id=\"sk-container-id-1\" class=\"sk-top-container\"><div class=\"sk-text-repr-fallback\"><pre>SVC()</pre><b>In a Jupyter environment, please rerun this cell to show the HTML representation or trust the notebook. <br />On GitHub, the HTML representation is unable to render, please try loading this page with nbviewer.org.</b></div><div class=\"sk-container\" hidden><div class=\"sk-item\"><div class=\"sk-estimator sk-toggleable\"><input class=\"sk-toggleable__control sk-hidden--visually\" id=\"sk-estimator-id-1\" type=\"checkbox\" checked><label for=\"sk-estimator-id-1\" class=\"sk-toggleable__label sk-toggleable__label-arrow\">SVC</label><div class=\"sk-toggleable__content\"><pre>SVC()</pre></div></div></div></div></div>"
      ],
      "text/plain": [
       "SVC()"
      ]
     },
     "execution_count": 15,
     "metadata": {},
     "output_type": "execute_result"
    }
   ],
   "source": [
    "svc_standard = SVC(kernel='rbf')\n",
    "svc_standard.fit(X_train_scaled, y_train)"
   ]
  },
  {
   "cell_type": "code",
   "execution_count": 16,
   "metadata": {},
   "outputs": [
    {
     "name": "stdout",
     "output_type": "stream",
     "text": [
      "Train Accuracy: 0.940\n",
      "Test Accuracy: 0.931\n"
     ]
    }
   ],
   "source": [
    "# Validate the model by checking the model accuracy with model.score\n",
    "print('Train Accuracy: %.3f' % svc_standard.score(X_train_scaled, y_train))\n",
    "print('Test Accuracy: %.3f' % svc_standard.score(X_test_scaled, y_test))"
   ]
  },
  {
   "cell_type": "code",
   "execution_count": 17,
   "metadata": {},
   "outputs": [
    {
     "data": {
      "text/html": [
       "<style>#sk-container-id-2 {color: black;}#sk-container-id-2 pre{padding: 0;}#sk-container-id-2 div.sk-toggleable {background-color: white;}#sk-container-id-2 label.sk-toggleable__label {cursor: pointer;display: block;width: 100%;margin-bottom: 0;padding: 0.3em;box-sizing: border-box;text-align: center;}#sk-container-id-2 label.sk-toggleable__label-arrow:before {content: \"▸\";float: left;margin-right: 0.25em;color: #696969;}#sk-container-id-2 label.sk-toggleable__label-arrow:hover:before {color: black;}#sk-container-id-2 div.sk-estimator:hover label.sk-toggleable__label-arrow:before {color: black;}#sk-container-id-2 div.sk-toggleable__content {max-height: 0;max-width: 0;overflow: hidden;text-align: left;background-color: #f0f8ff;}#sk-container-id-2 div.sk-toggleable__content pre {margin: 0.2em;color: black;border-radius: 0.25em;background-color: #f0f8ff;}#sk-container-id-2 input.sk-toggleable__control:checked~div.sk-toggleable__content {max-height: 200px;max-width: 100%;overflow: auto;}#sk-container-id-2 input.sk-toggleable__control:checked~label.sk-toggleable__label-arrow:before {content: \"▾\";}#sk-container-id-2 div.sk-estimator input.sk-toggleable__control:checked~label.sk-toggleable__label {background-color: #d4ebff;}#sk-container-id-2 div.sk-label input.sk-toggleable__control:checked~label.sk-toggleable__label {background-color: #d4ebff;}#sk-container-id-2 input.sk-hidden--visually {border: 0;clip: rect(1px 1px 1px 1px);clip: rect(1px, 1px, 1px, 1px);height: 1px;margin: -1px;overflow: hidden;padding: 0;position: absolute;width: 1px;}#sk-container-id-2 div.sk-estimator {font-family: monospace;background-color: #f0f8ff;border: 1px dotted black;border-radius: 0.25em;box-sizing: border-box;margin-bottom: 0.5em;}#sk-container-id-2 div.sk-estimator:hover {background-color: #d4ebff;}#sk-container-id-2 div.sk-parallel-item::after {content: \"\";width: 100%;border-bottom: 1px solid gray;flex-grow: 1;}#sk-container-id-2 div.sk-label:hover label.sk-toggleable__label {background-color: #d4ebff;}#sk-container-id-2 div.sk-serial::before {content: \"\";position: absolute;border-left: 1px solid gray;box-sizing: border-box;top: 0;bottom: 0;left: 50%;z-index: 0;}#sk-container-id-2 div.sk-serial {display: flex;flex-direction: column;align-items: center;background-color: white;padding-right: 0.2em;padding-left: 0.2em;position: relative;}#sk-container-id-2 div.sk-item {position: relative;z-index: 1;}#sk-container-id-2 div.sk-parallel {display: flex;align-items: stretch;justify-content: center;background-color: white;position: relative;}#sk-container-id-2 div.sk-item::before, #sk-container-id-2 div.sk-parallel-item::before {content: \"\";position: absolute;border-left: 1px solid gray;box-sizing: border-box;top: 0;bottom: 0;left: 50%;z-index: -1;}#sk-container-id-2 div.sk-parallel-item {display: flex;flex-direction: column;z-index: 1;position: relative;background-color: white;}#sk-container-id-2 div.sk-parallel-item:first-child::after {align-self: flex-end;width: 50%;}#sk-container-id-2 div.sk-parallel-item:last-child::after {align-self: flex-start;width: 50%;}#sk-container-id-2 div.sk-parallel-item:only-child::after {width: 0;}#sk-container-id-2 div.sk-dashed-wrapped {border: 1px dashed gray;margin: 0 0.4em 0.5em 0.4em;box-sizing: border-box;padding-bottom: 0.4em;background-color: white;}#sk-container-id-2 div.sk-label label {font-family: monospace;font-weight: bold;display: inline-block;line-height: 1.2em;}#sk-container-id-2 div.sk-label-container {text-align: center;}#sk-container-id-2 div.sk-container {/* jupyter's `normalize.less` sets `[hidden] { display: none; }` but bootstrap.min.css set `[hidden] { display: none !important; }` so we also need the `!important` here to be able to override the default hidden behavior on the sphinx rendered scikit-learn.org. See: https://github.com/scikit-learn/scikit-learn/issues/21755 */display: inline-block !important;position: relative;}#sk-container-id-2 div.sk-text-repr-fallback {display: none;}</style><div id=\"sk-container-id-2\" class=\"sk-top-container\"><div class=\"sk-text-repr-fallback\"><pre>SVC()</pre><b>In a Jupyter environment, please rerun this cell to show the HTML representation or trust the notebook. <br />On GitHub, the HTML representation is unable to render, please try loading this page with nbviewer.org.</b></div><div class=\"sk-container\" hidden><div class=\"sk-item\"><div class=\"sk-estimator sk-toggleable\"><input class=\"sk-toggleable__control sk-hidden--visually\" id=\"sk-estimator-id-2\" type=\"checkbox\" checked><label for=\"sk-estimator-id-2\" class=\"sk-toggleable__label sk-toggleable__label-arrow\">SVC</label><div class=\"sk-toggleable__content\"><pre>SVC()</pre></div></div></div></div></div>"
      ],
      "text/plain": [
       "SVC()"
      ]
     },
     "execution_count": 17,
     "metadata": {},
     "output_type": "execute_result"
    }
   ],
   "source": [
    "svc_minmax = SVC(kernel='rbf')\n",
    "svc_minmax.fit(X_train_minmax, y_train)"
   ]
  },
  {
   "cell_type": "code",
   "execution_count": 18,
   "metadata": {},
   "outputs": [
    {
     "name": "stdout",
     "output_type": "stream",
     "text": [
      "Train Accuracy: 0.935\n",
      "Test Accuracy: 0.927\n"
     ]
    }
   ],
   "source": [
    "# validate the model by checking the model accuracy with model.score\n",
    "print('Train Accuracy: %.3f' % svc_minmax.score(X_train_minmax, y_train))\n",
    "print('Test Accuracy: %.3f' % svc_minmax.score(X_test_minmax, y_test))"
   ]
  },
  {
   "cell_type": "code",
   "execution_count": 19,
   "metadata": {},
   "outputs": [
    {
     "data": {
      "text/html": [
       "<div>\n",
       "<style scoped>\n",
       "    .dataframe tbody tr th:only-of-type {\n",
       "        vertical-align: middle;\n",
       "    }\n",
       "\n",
       "    .dataframe tbody tr th {\n",
       "        vertical-align: top;\n",
       "    }\n",
       "\n",
       "    .dataframe thead th {\n",
       "        text-align: right;\n",
       "    }\n",
       "</style>\n",
       "<table border=\"1\" class=\"dataframe\">\n",
       "  <thead>\n",
       "    <tr style=\"text-align: right;\">\n",
       "      <th></th>\n",
       "      <th>train</th>\n",
       "      <th>test</th>\n",
       "    </tr>\n",
       "    <tr>\n",
       "      <th>depth</th>\n",
       "      <th></th>\n",
       "      <th></th>\n",
       "    </tr>\n",
       "  </thead>\n",
       "  <tbody>\n",
       "    <tr>\n",
       "      <th>1</th>\n",
       "      <td>0.934772</td>\n",
       "      <td>0.927007</td>\n",
       "    </tr>\n",
       "    <tr>\n",
       "      <th>2</th>\n",
       "      <td>0.934772</td>\n",
       "      <td>0.927007</td>\n",
       "    </tr>\n",
       "    <tr>\n",
       "      <th>3</th>\n",
       "      <td>0.943209</td>\n",
       "      <td>0.936740</td>\n",
       "    </tr>\n",
       "    <tr>\n",
       "      <th>4</th>\n",
       "      <td>0.944021</td>\n",
       "      <td>0.935766</td>\n",
       "    </tr>\n",
       "    <tr>\n",
       "      <th>5</th>\n",
       "      <td>0.944994</td>\n",
       "      <td>0.936740</td>\n",
       "    </tr>\n",
       "  </tbody>\n",
       "</table>\n",
       "</div>"
      ],
      "text/plain": [
       "          train      test\n",
       "depth                    \n",
       "1      0.934772  0.927007\n",
       "2      0.934772  0.927007\n",
       "3      0.943209  0.936740\n",
       "4      0.944021  0.935766\n",
       "5      0.944994  0.936740"
      ]
     },
     "execution_count": 19,
     "metadata": {},
     "output_type": "execute_result"
    }
   ],
   "source": [
    "# Create a loop to vary the max_depth parameter\n",
    "# Make sure to record the train and test scores \n",
    "# for each pass.\n",
    "\n",
    "# Depths should span from 1 up to 40 in steps of 2\n",
    "depths = range(1, 10, 1)\n",
    "\n",
    "# The scores dataframe will hold depths and scores\n",
    "# to make plotting easy\n",
    "scores = {'train': [], 'test': [], 'depth': []}\n",
    "\n",
    "# Loop through each depth (this will take time to run)\n",
    "for depth in depths:\n",
    "    clf = RandomForestClassifier(max_depth=depth)\n",
    "    clf.fit(X_train_scaled, y_train)\n",
    "\n",
    "    train_score = clf.score(X_train_scaled, y_train)\n",
    "    test_score = clf.score(X_test_scaled, y_test)\n",
    "\n",
    "    scores['depth'].append(depth)\n",
    "    scores['train'].append(train_score)\n",
    "    scores['test'].append(test_score)\n",
    "\n",
    "# Create a dataframe from the scores dictionary and\n",
    "# set the index to depth\n",
    "scores_df = pd.DataFrame(scores).set_index('depth')\n",
    "\n",
    "scores_df.head()"
   ]
  },
  {
   "cell_type": "code",
   "execution_count": 20,
   "metadata": {},
   "outputs": [
    {
     "data": {
      "text/plain": [
       "<Axes: xlabel='depth'>"
      ]
     },
     "execution_count": 20,
     "metadata": {},
     "output_type": "execute_result"
    },
    {
     "data": {
      "image/png": "[encoded data removed]",
      "text/plain": [
       "<Figure size 640x480 with 1 Axes>"
      ]
     },
     "metadata": {},
     "output_type": "display_data"
    }
   ],
   "source": [
    "# Plot the scores dataframe with the plot method\n",
    "scores_df.plot()"
   ]
  },
  {
   "cell_type": "code",
   "execution_count": 21,
   "metadata": {},
   "outputs": [
    {
     "data": {
      "text/plain": [
       "0.9352798053527981"
      ]
     },
     "execution_count": 21,
     "metadata": {},
     "output_type": "execute_result"
    }
   ],
   "source": [
    "# Create a Random Forest model\n",
    "classifier = RandomForestClassifier(random_state=13, max_depth=3, n_estimators=100)\n",
    "\n",
    "# Fit (train) or model using the training data\n",
    "classifier.fit(X_train_scaled, y_train)\n",
    "\n",
    "# Calculate the accuracy of the model on the testing data\n",
    "classifier.score(X_test_scaled, y_test)\n"
   ]
  },
  {
   "cell_type": "code",
   "execution_count": 22,
   "metadata": {},
   "outputs": [
    {
     "data": {
      "text/plain": [
       "0.9436962518254097"
      ]
     },
     "execution_count": 22,
     "metadata": {},
     "output_type": "execute_result"
    }
   ],
   "source": [
    "# Calculate the accuracy of the model on the training data\n",
    "classifier.score(X_train_scaled, y_train)"
   ]
  },
  {
   "cell_type": "code",
   "execution_count": 23,
   "metadata": {},
   "outputs": [
    {
     "name": "stdout",
     "output_type": "stream",
     "text": [
      "0.5689501312335958\n"
     ]
    }
   ],
   "source": [
    "# Check the model's balanced accuracy on the test set\n",
    "\n",
    "y_test_pred = classifier.predict(X_test_scaled)\n",
    "print(balanced_accuracy_score(y_test, y_test_pred))"
   ]
  },
  {
   "cell_type": "markdown",
   "metadata": {},
   "source": [
    "It looks like the model does well at identifying when an object is not dangerous, but it does relatively poorly when trying to identify dangerous objects. This is a problem! "
   ]
  },
  {
   "cell_type": "code",
   "execution_count": 24,
   "metadata": {},
   "outputs": [
    {
     "data": {
      "text/plain": [
       "array([[1901,    4],\n",
       "       [ 129,   21]])"
      ]
     },
     "execution_count": 24,
     "metadata": {},
     "output_type": "execute_result"
    }
   ],
   "source": [
    "# Check the model's confusion matrix\n",
    "confusion_matrix(y_test, y_test_pred)"
   ]
  },
  {
   "cell_type": "code",
   "execution_count": 25,
   "metadata": {},
   "outputs": [],
   "source": [
    "# Fine Tuning: Should do some overfitting and balanced_score testing\n",
    "# Import RandomOverSampler from imblearn\n",
    "from imblearn.over_sampling import RandomOverSampler\n",
    "\n",
    "# Instantiate the RandomOverSampler instance\n",
    "random_oversampler = RandomOverSampler(random_state=1)\n",
    "\n",
    "# Fit the data to the model\n",
    "X_resampled, y_resampled = random_oversampler.fit_resample(\n",
    "                                                X_train_scaled, y_train)\n"
   ]
  },
  {
   "cell_type": "code",
   "execution_count": 26,
   "metadata": {},
   "outputs": [
    {
     "data": {
      "text/plain": [
       "is_potentially_hazardous\n",
       "0    5761\n",
       "1    5761\n",
       "Name: count, dtype: int64"
      ]
     },
     "execution_count": 26,
     "metadata": {},
     "output_type": "execute_result"
    }
   ],
   "source": [
    "# Count distinct values\n",
    "y_resampled.value_counts()"
   ]
  },
  {
   "cell_type": "code",
   "execution_count": 27,
   "metadata": {},
   "outputs": [
    {
     "data": {
      "text/html": [
       "<style>#sk-container-id-3 {color: black;}#sk-container-id-3 pre{padding: 0;}#sk-container-id-3 div.sk-toggleable {background-color: white;}#sk-container-id-3 label.sk-toggleable__label {cursor: pointer;display: block;width: 100%;margin-bottom: 0;padding: 0.3em;box-sizing: border-box;text-align: center;}#sk-container-id-3 label.sk-toggleable__label-arrow:before {content: \"▸\";float: left;margin-right: 0.25em;color: #696969;}#sk-container-id-3 label.sk-toggleable__label-arrow:hover:before {color: black;}#sk-container-id-3 div.sk-estimator:hover label.sk-toggleable__label-arrow:before {color: black;}#sk-container-id-3 div.sk-toggleable__content {max-height: 0;max-width: 0;overflow: hidden;text-align: left;background-color: #f0f8ff;}#sk-container-id-3 div.sk-toggleable__content pre {margin: 0.2em;color: black;border-radius: 0.25em;background-color: #f0f8ff;}#sk-container-id-3 input.sk-toggleable__control:checked~div.sk-toggleable__content {max-height: 200px;max-width: 100%;overflow: auto;}#sk-container-id-3 input.sk-toggleable__control:checked~label.sk-toggleable__label-arrow:before {content: \"▾\";}#sk-container-id-3 div.sk-estimator input.sk-toggleable__control:checked~label.sk-toggleable__label {background-color: #d4ebff;}#sk-container-id-3 div.sk-label input.sk-toggleable__control:checked~label.sk-toggleable__label {background-color: #d4ebff;}#sk-container-id-3 input.sk-hidden--visually {border: 0;clip: rect(1px 1px 1px 1px);clip: rect(1px, 1px, 1px, 1px);height: 1px;margin: -1px;overflow: hidden;padding: 0;position: absolute;width: 1px;}#sk-container-id-3 div.sk-estimator {font-family: monospace;background-color: #f0f8ff;border: 1px dotted black;border-radius: 0.25em;box-sizing: border-box;margin-bottom: 0.5em;}#sk-container-id-3 div.sk-estimator:hover {background-color: #d4ebff;}#sk-container-id-3 div.sk-parallel-item::after {content: \"\";width: 100%;border-bottom: 1px solid gray;flex-grow: 1;}#sk-container-id-3 div.sk-label:hover label.sk-toggleable__label {background-color: #d4ebff;}#sk-container-id-3 div.sk-serial::before {content: \"\";position: absolute;border-left: 1px solid gray;box-sizing: border-box;top: 0;bottom: 0;left: 50%;z-index: 0;}#sk-container-id-3 div.sk-serial {display: flex;flex-direction: column;align-items: center;background-color: white;padding-right: 0.2em;padding-left: 0.2em;position: relative;}#sk-container-id-3 div.sk-item {position: relative;z-index: 1;}#sk-container-id-3 div.sk-parallel {display: flex;align-items: stretch;justify-content: center;background-color: white;position: relative;}#sk-container-id-3 div.sk-item::before, #sk-container-id-3 div.sk-parallel-item::before {content: \"\";position: absolute;border-left: 1px solid gray;box-sizing: border-box;top: 0;bottom: 0;left: 50%;z-index: -1;}#sk-container-id-3 div.sk-parallel-item {display: flex;flex-direction: column;z-index: 1;position: relative;background-color: white;}#sk-container-id-3 div.sk-parallel-item:first-child::after {align-self: flex-end;width: 50%;}#sk-container-id-3 div.sk-parallel-item:last-child::after {align-self: flex-start;width: 50%;}#sk-container-id-3 div.sk-parallel-item:only-child::after {width: 0;}#sk-container-id-3 div.sk-dashed-wrapped {border: 1px dashed gray;margin: 0 0.4em 0.5em 0.4em;box-sizing: border-box;padding-bottom: 0.4em;background-color: white;}#sk-container-id-3 div.sk-label label {font-family: monospace;font-weight: bold;display: inline-block;line-height: 1.2em;}#sk-container-id-3 div.sk-label-container {text-align: center;}#sk-container-id-3 div.sk-container {/* jupyter's `normalize.less` sets `[hidden] { display: none; }` but bootstrap.min.css set `[hidden] { display: none !important; }` so we also need the `!important` here to be able to override the default hidden behavior on the sphinx rendered scikit-learn.org. See: https://github.com/scikit-learn/scikit-learn/issues/21755 */display: inline-block !important;position: relative;}#sk-container-id-3 div.sk-text-repr-fallback {display: none;}</style><div id=\"sk-container-id-3\" class=\"sk-top-container\"><div class=\"sk-text-repr-fallback\"><pre>RandomForestClassifier(max_depth=3, random_state=13)</pre><b>In a Jupyter environment, please rerun this cell to show the HTML representation or trust the notebook. <br />On GitHub, the HTML representation is unable to render, please try loading this page with nbviewer.org.</b></div><div class=\"sk-container\" hidden><div class=\"sk-item\"><div class=\"sk-estimator sk-toggleable\"><input class=\"sk-toggleable__control sk-hidden--visually\" id=\"sk-estimator-id-3\" type=\"checkbox\" checked><label for=\"sk-estimator-id-3\" class=\"sk-toggleable__label sk-toggleable__label-arrow\">RandomForestClassifier</label><div class=\"sk-toggleable__content\"><pre>RandomForestClassifier(max_depth=3, random_state=13)</pre></div></div></div></div></div>"
      ],
      "text/plain": [
       "RandomForestClassifier(max_depth=3, random_state=13)"
      ]
     },
     "execution_count": 27,
     "metadata": {},
     "output_type": "execute_result"
    }
   ],
   "source": [
    "# Create a RandomForestClassifier instance and fit it to the resampled data\n",
    "resampled_model = RandomForestClassifier(random_state=13, max_depth=3, n_estimators=100)\n",
    "resampled_model.fit(X_resampled, y_resampled)"
   ]
  },
  {
   "cell_type": "code",
   "execution_count": 28,
   "metadata": {},
   "outputs": [],
   "source": [
    "# Make predictions for testing features\n",
    "y_pred = classifier.predict(X_test_scaled)\n",
    "y_pred_resampled = resampled_model.predict(X_test_scaled)"
   ]
  },
  {
   "cell_type": "code",
   "execution_count": 29,
   "metadata": {},
   "outputs": [
    {
     "name": "stdout",
     "output_type": "stream",
     "text": [
      "              precision    recall  f1-score   support\n",
      "\n",
      "           0       0.94      1.00      0.97      1905\n",
      "           1       0.84      0.14      0.24       150\n",
      "\n",
      "    accuracy                           0.94      2055\n",
      "   macro avg       0.89      0.57      0.60      2055\n",
      "weighted avg       0.93      0.94      0.91      2055\n",
      "\n",
      "----------\n",
      "Resampled using Random Oversampler:\n",
      "              precision    recall  f1-score   support\n",
      "\n",
      "           0       1.00      0.83      0.91      1905\n",
      "           1       0.31      0.99      0.48       150\n",
      "\n",
      "    accuracy                           0.84      2055\n",
      "   macro avg       0.66      0.91      0.69      2055\n",
      "weighted avg       0.95      0.84      0.88      2055\n",
      "\n"
     ]
    }
   ],
   "source": [
    "# Print the classification reports for the two models\n",
    "original_classification_report = classification_report(y_test, y_pred)\n",
    "print(original_classification_report)\n",
    "print('----------')\n",
    "print('Resampled using Random Oversampler:')\n",
    "print(classification_report(y_test, y_pred_resampled))"
   ]
  },
  {
   "cell_type": "markdown",
   "metadata": {},
   "source": [
    "## SMOTE"
   ]
  },
  {
   "cell_type": "code",
   "execution_count": 30,
   "metadata": {},
   "outputs": [],
   "source": [
    "# Import SMOTE from imblearn\n",
    "from imblearn.over_sampling import SMOTE\n",
    "\n",
    "# Instantiate the SMOTE instance \n",
    "# Set the sampling_strategy parameter equal to auto\n",
    "smote_sampler = SMOTE(random_state=1, sampling_strategy='auto')"
   ]
  },
  {
   "cell_type": "code",
   "execution_count": 31,
   "metadata": {},
   "outputs": [],
   "source": [
    "# Fit the training data to the smote_sampler model\n",
    "X_resampled_smote, y_resampled_smote = smote_sampler.fit_resample(X_train_scaled, y_train)"
   ]
  },
  {
   "cell_type": "code",
   "execution_count": 32,
   "metadata": {},
   "outputs": [
    {
     "data": {
      "text/plain": [
       "is_potentially_hazardous\n",
       "0    5761\n",
       "1    5761\n",
       "Name: count, dtype: int64"
      ]
     },
     "execution_count": 32,
     "metadata": {},
     "output_type": "execute_result"
    }
   ],
   "source": [
    "# Count distinct values for the resampled target data\n",
    "y_resampled_smote.value_counts()"
   ]
  },
  {
   "cell_type": "code",
   "execution_count": 33,
   "metadata": {},
   "outputs": [
    {
     "data": {
      "text/html": [
       "<style>#sk-container-id-4 {color: black;}#sk-container-id-4 pre{padding: 0;}#sk-container-id-4 div.sk-toggleable {background-color: white;}#sk-container-id-4 label.sk-toggleable__label {cursor: pointer;display: block;width: 100%;margin-bottom: 0;padding: 0.3em;box-sizing: border-box;text-align: center;}#sk-container-id-4 label.sk-toggleable__label-arrow:before {content: \"▸\";float: left;margin-right: 0.25em;color: #696969;}#sk-container-id-4 label.sk-toggleable__label-arrow:hover:before {color: black;}#sk-container-id-4 div.sk-estimator:hover label.sk-toggleable__label-arrow:before {color: black;}#sk-container-id-4 div.sk-toggleable__content {max-height: 0;max-width: 0;overflow: hidden;text-align: left;background-color: #f0f8ff;}#sk-container-id-4 div.sk-toggleable__content pre {margin: 0.2em;color: black;border-radius: 0.25em;background-color: #f0f8ff;}#sk-container-id-4 input.sk-toggleable__control:checked~div.sk-toggleable__content {max-height: 200px;max-width: 100%;overflow: auto;}#sk-container-id-4 input.sk-toggleable__control:checked~label.sk-toggleable__label-arrow:before {content: \"▾\";}#sk-container-id-4 div.sk-estimator input.sk-toggleable__control:checked~label.sk-toggleable__label {background-color: #d4ebff;}#sk-container-id-4 div.sk-label input.sk-toggleable__control:checked~label.sk-toggleable__label {background-color: #d4ebff;}#sk-container-id-4 input.sk-hidden--visually {border: 0;clip: rect(1px 1px 1px 1px);clip: rect(1px, 1px, 1px, 1px);height: 1px;margin: -1px;overflow: hidden;padding: 0;position: absolute;width: 1px;}#sk-container-id-4 div.sk-estimator {font-family: monospace;background-color: #f0f8ff;border: 1px dotted black;border-radius: 0.25em;box-sizing: border-box;margin-bottom: 0.5em;}#sk-container-id-4 div.sk-estimator:hover {background-color: #d4ebff;}#sk-container-id-4 div.sk-parallel-item::after {content: \"\";width: 100%;border-bottom: 1px solid gray;flex-grow: 1;}#sk-container-id-4 div.sk-label:hover label.sk-toggleable__label {background-color: #d4ebff;}#sk-container-id-4 div.sk-serial::before {content: \"\";position: absolute;border-left: 1px solid gray;box-sizing: border-box;top: 0;bottom: 0;left: 50%;z-index: 0;}#sk-container-id-4 div.sk-serial {display: flex;flex-direction: column;align-items: center;background-color: white;padding-right: 0.2em;padding-left: 0.2em;position: relative;}#sk-container-id-4 div.sk-item {position: relative;z-index: 1;}#sk-container-id-4 div.sk-parallel {display: flex;align-items: stretch;justify-content: center;background-color: white;position: relative;}#sk-container-id-4 div.sk-item::before, #sk-container-id-4 div.sk-parallel-item::before {content: \"\";position: absolute;border-left: 1px solid gray;box-sizing: border-box;top: 0;bottom: 0;left: 50%;z-index: -1;}#sk-container-id-4 div.sk-parallel-item {display: flex;flex-direction: column;z-index: 1;position: relative;background-color: white;}#sk-container-id-4 div.sk-parallel-item:first-child::after {align-self: flex-end;width: 50%;}#sk-container-id-4 div.sk-parallel-item:last-child::after {align-self: flex-start;width: 50%;}#sk-container-id-4 div.sk-parallel-item:only-child::after {width: 0;}#sk-container-id-4 div.sk-dashed-wrapped {border: 1px dashed gray;margin: 0 0.4em 0.5em 0.4em;box-sizing: border-box;padding-bottom: 0.4em;background-color: white;}#sk-container-id-4 div.sk-label label {font-family: monospace;font-weight: bold;display: inline-block;line-height: 1.2em;}#sk-container-id-4 div.sk-label-container {text-align: center;}#sk-container-id-4 div.sk-container {/* jupyter's `normalize.less` sets `[hidden] { display: none; }` but bootstrap.min.css set `[hidden] { display: none !important; }` so we also need the `!important` here to be able to override the default hidden behavior on the sphinx rendered scikit-learn.org. See: https://github.com/scikit-learn/scikit-learn/issues/21755 */display: inline-block !important;position: relative;}#sk-container-id-4 div.sk-text-repr-fallback {display: none;}</style><div id=\"sk-container-id-4\" class=\"sk-top-container\"><div class=\"sk-text-repr-fallback\"><pre>RandomForestClassifier()</pre><b>In a Jupyter environment, please rerun this cell to show the HTML representation or trust the notebook. <br />On GitHub, the HTML representation is unable to render, please try loading this page with nbviewer.org.</b></div><div class=\"sk-container\" hidden><div class=\"sk-item\"><div class=\"sk-estimator sk-toggleable\"><input class=\"sk-toggleable__control sk-hidden--visually\" id=\"sk-estimator-id-4\" type=\"checkbox\" checked><label for=\"sk-estimator-id-4\" class=\"sk-toggleable__label sk-toggleable__label-arrow\">RandomForestClassifier</label><div class=\"sk-toggleable__content\"><pre>RandomForestClassifier()</pre></div></div></div></div></div>"
      ],
      "text/plain": [
       "RandomForestClassifier()"
      ]
     },
     "execution_count": 33,
     "metadata": {},
     "output_type": "execute_result"
    }
   ],
   "source": [
    "# Instantiate a new RandomForestClassier model \n",
    "smote_model = RandomForestClassifier()\n",
    "\n",
    "# Fit the resampled data to the new model\n",
    "smote_model.fit(X_resampled_smote, y_resampled_smote)"
   ]
  },
  {
   "cell_type": "code",
   "execution_count": 34,
   "metadata": {},
   "outputs": [],
   "source": [
    "# Predict labels for resampled testing features\n",
    "smote_y_pred = smote_model.predict(X_test_scaled)"
   ]
  },
  {
   "cell_type": "code",
   "execution_count": 35,
   "metadata": {},
   "outputs": [
    {
     "name": "stdout",
     "output_type": "stream",
     "text": [
      "Classification Report - Original Data\n",
      "              precision    recall  f1-score   support\n",
      "\n",
      "           0       0.94      1.00      0.97      1905\n",
      "           1       0.84      0.14      0.24       150\n",
      "\n",
      "    accuracy                           0.94      2055\n",
      "   macro avg       0.89      0.57      0.60      2055\n",
      "weighted avg       0.93      0.94      0.91      2055\n",
      "\n",
      "---------\n",
      "Classification Report - Resampled Data - SMOTE\n",
      "              precision    recall  f1-score   support\n",
      "\n",
      "           0       0.98      0.92      0.95      1905\n",
      "           1       0.41      0.75      0.53       150\n",
      "\n",
      "    accuracy                           0.90      2055\n",
      "   macro avg       0.70      0.83      0.74      2055\n",
      "weighted avg       0.94      0.90      0.92      2055\n",
      "\n"
     ]
    }
   ],
   "source": [
    "# Print classification reports\n",
    "print(f\"Classification Report - Original Data\")\n",
    "print(original_classification_report)\n",
    "print(\"---------\")\n",
    "print(f\"Classification Report - Resampled Data - SMOTE\")\n",
    "print(classification_report(y_test, smote_y_pred))"
   ]
  },
  {
   "cell_type": "code",
   "execution_count": 36,
   "metadata": {},
   "outputs": [
    {
     "name": "stdout",
     "output_type": "stream",
     "text": [
      "<class 'pandas.core.frame.DataFrame'>\n",
      "RangeIndex: 24289 entries, 0 to 24288\n",
      "Data columns (total 10 columns):\n",
      " #   Column                    Non-Null Count  Dtype  \n",
      "---  ------                    --------------  -----  \n",
      " 0   id                        24289 non-null  int64  \n",
      " 1   name                      24289 non-null  object \n",
      " 2   absolute_magnitude_h      24289 non-null  float64\n",
      " 3   est_diameter_min          24289 non-null  float64\n",
      " 4   est_diameter_max          24289 non-null  float64\n",
      " 5   relative_velocity         24289 non-null  float64\n",
      " 6   miss_distance             24289 non-null  float64\n",
      " 7   orbiting_body             24289 non-null  object \n",
      " 8   sentry_object             24289 non-null  int64  \n",
      " 9   is_potentially_hazardous  24289 non-null  int64  \n",
      "dtypes: float64(5), int64(3), object(2)\n",
      "memory usage: 1.9+ MB\n"
     ]
    }
   ],
   "source": [
    "# Import the additional data file from JSON into a dataframe\n",
    "path = 'resources/additional_neo_data.json'\n",
    "df_additional = pd.read_json(path)\n",
    "df_additional.info()"
   ]
  },
  {
   "cell_type": "code",
   "execution_count": 37,
   "metadata": {},
   "outputs": [
    {
     "data": {
      "text/plain": [
       "is_potentially_hazardous\n",
       "0    22677\n",
       "1     1612\n",
       "Name: count, dtype: int64"
      ]
     },
     "execution_count": 37,
     "metadata": {},
     "output_type": "execute_result"
    }
   ],
   "source": [
    "# Count the instances of is_potentially_hazardous == 1\n",
    "df_additional['is_potentially_hazardous'].value_counts()"
   ]
  },
  {
   "cell_type": "code",
   "execution_count": 38,
   "metadata": {},
   "outputs": [
    {
     "name": "stdout",
     "output_type": "stream",
     "text": [
      "<class 'pandas.core.frame.DataFrame'>\n",
      "Index: 1612 entries, 0 to 24274\n",
      "Data columns (total 7 columns):\n",
      " #   Column                    Non-Null Count  Dtype  \n",
      "---  ------                    --------------  -----  \n",
      " 0   absolute_magnitude_h      1612 non-null   float64\n",
      " 1   est_diameter_min          1612 non-null   float64\n",
      " 2   est_diameter_max          1612 non-null   float64\n",
      " 3   relative_velocity         1612 non-null   float64\n",
      " 4   miss_distance             1612 non-null   float64\n",
      " 5   sentry_object             1612 non-null   int64  \n",
      " 6   is_potentially_hazardous  1612 non-null   int64  \n",
      "dtypes: float64(5), int64(2)\n",
      "memory usage: 100.8 KB\n"
     ]
    }
   ],
   "source": [
    "# Get a dataframe of the minority class\n",
    "minority_class_df = df_additional[df_additional['is_potentially_hazardous'] == 1]\n",
    "\n",
    "minority_class_df = remove_unnecessary_columns(minority_class_df)\n",
    "minority_class_df.info()"
   ]
  },
  {
   "cell_type": "code",
   "execution_count": 39,
   "metadata": {},
   "outputs": [
    {
     "name": "stdout",
     "output_type": "stream",
     "text": [
      "<class 'pandas.core.frame.DataFrame'>\n",
      "RangeIndex: 9830 entries, 0 to 9829\n",
      "Data columns (total 7 columns):\n",
      " #   Column                    Non-Null Count  Dtype  \n",
      "---  ------                    --------------  -----  \n",
      " 0   absolute_magnitude_h      9830 non-null   float64\n",
      " 1   est_diameter_min          9830 non-null   float64\n",
      " 2   est_diameter_max          9830 non-null   float64\n",
      " 3   relative_velocity         9830 non-null   float64\n",
      " 4   miss_distance             9830 non-null   float64\n",
      " 5   sentry_object             9830 non-null   int64  \n",
      " 6   is_potentially_hazardous  9830 non-null   int64  \n",
      "dtypes: float64(5), int64(2)\n",
      "memory usage: 537.7 KB\n"
     ]
    }
   ],
   "source": [
    "# Combine the minority class dataframe with the base dataframe\n",
    "combined_df = pd.concat([base_df, minority_class_df], ignore_index=True)\n",
    "combined_df.info()"
   ]
  },
  {
   "cell_type": "code",
   "execution_count": 40,
   "metadata": {},
   "outputs": [
    {
     "data": {
      "text/plain": [
       "is_potentially_hazardous\n",
       "0    7666\n",
       "1    2164\n",
       "Name: count, dtype: int64"
      ]
     },
     "execution_count": 40,
     "metadata": {},
     "output_type": "execute_result"
    }
   ],
   "source": [
    "# Check the value counts of the target column\n",
    "combined_df['is_potentially_hazardous'].value_counts()"
   ]
  },
  {
   "cell_type": "code",
   "execution_count": 41,
   "metadata": {},
   "outputs": [],
   "source": [
    "# Define the new features set and drop the target column\n",
    "X = get_features_set(combined_df)\n"
   ]
  },
  {
   "cell_type": "code",
   "execution_count": 42,
   "metadata": {},
   "outputs": [],
   "source": [
    "# Define the target vector\n",
    "y = combined_df['is_potentially_hazardous'].copy()"
   ]
  },
  {
   "cell_type": "code",
   "execution_count": 43,
   "metadata": {},
   "outputs": [],
   "source": [
    "# Split the data into training and testing sets\n",
    "X_train, X_test, y_train, y_test = train_test_split(X, y, random_state=78)"
   ]
  },
  {
   "cell_type": "code",
   "execution_count": 44,
   "metadata": {},
   "outputs": [],
   "source": [
    "# Scale with Standard Scaler\n",
    "standard_scaler = StandardScaler().fit(X_train)\n",
    "X_train_scaled = standard_scaler.transform(X_train)\n",
    "\n",
    "# Scale the testing dataset\n",
    "X_test_scaled = standard_scaler.transform(X_test)\n"
   ]
  },
  {
   "cell_type": "code",
   "execution_count": 45,
   "metadata": {},
   "outputs": [
    {
     "data": {
      "text/plain": [
       "<Axes: xlabel='depth'>"
      ]
     },
     "execution_count": 45,
     "metadata": {},
     "output_type": "execute_result"
    },
    {
     "data": {
      "image/png": "[encoded data removed]",
      "text/plain": [
       "<Figure size 640x480 with 1 Axes>"
      ]
     },
     "metadata": {},
     "output_type": "display_data"
    }
   ],
   "source": [
    "# Create a loop to vary the max_depth parameter\n",
    "# Make sure to record the train and test scores \n",
    "# for each pass.\n",
    "\n",
    "# Depths should span from 1 up to 20 in steps of 2\n",
    "depths = range(1, 10, 1)\n",
    "\n",
    "# The scores dataframe will hold depths and scores\n",
    "# to make plotting easy\n",
    "scores = {'train': [], 'test': [], 'depth': []}\n",
    "\n",
    "# Loop through each depth (this will take time to run)\n",
    "for depth in depths:\n",
    "    clf = RandomForestClassifier(max_depth=depth)\n",
    "    clf.fit(X_train_scaled, y_train)\n",
    "\n",
    "    train_score = clf.score(X_train_scaled, y_train)\n",
    "    test_score = clf.score(X_test_scaled, y_test)\n",
    "\n",
    "    scores['depth'].append(depth)\n",
    "    scores['train'].append(train_score)\n",
    "    scores['test'].append(test_score)\n",
    "\n",
    "# Create a dataframe from the scores dictionary and\n",
    "# set the index to depth\n",
    "scores_df = pd.DataFrame(scores).set_index('depth')\n",
    "\n",
    "scores_df.plot()"
   ]
  },
  {
   "cell_type": "code",
   "execution_count": 46,
   "metadata": {},
   "outputs": [
    {
     "name": "stdout",
     "output_type": "stream",
     "text": [
      "Testing data accuracy score: 0.8677786818551668\n",
      "Training data accuracy score: 0.8700488334237656\n",
      "Balanced Accuracy Score: 0.9088360226645182\n"
     ]
    }
   ],
   "source": [
    "# Create a Random Forest model\n",
    "classifier = RandomForestClassifier(random_state=13, max_depth=3, n_estimators=100)\n",
    "\n",
    "# Fit (train) or model using the training data\n",
    "classifier.fit(X_train_scaled, y_train)\n",
    "\n",
    "# Calculate the accuracy of the model on the testing data\n",
    "print(f\"Testing data accuracy score: {classifier.score(X_test_scaled, y_test)}\")\n",
    "\n",
    "# Calculate the accuracy of the model on the training data\n",
    "print(f\"Training data accuracy score: {classifier.score(X_train_scaled, y_train)}\")\n",
    "\n",
    "# Check the model's balanced accuracy on the test set\n",
    "y_test_pred = classifier.predict(X_test_scaled)\n",
    "print(f\"Balanced Accuracy Score: {balanced_accuracy_score(y_test, y_test_pred)}\")"
   ]
  },
  {
   "cell_type": "code",
   "execution_count": 47,
   "metadata": {},
   "outputs": [],
   "source": [
    "# Make predictions for testing features\n",
    "y_pred = classifier.predict(X_test_scaled)"
   ]
  },
  {
   "cell_type": "code",
   "execution_count": 48,
   "metadata": {},
   "outputs": [
    {
     "name": "stdout",
     "output_type": "stream",
     "text": [
      "Classification Report - Original Data\n",
      "              precision    recall  f1-score   support\n",
      "\n",
      "           0       0.94      1.00      0.97      1905\n",
      "           1       0.84      0.14      0.24       150\n",
      "\n",
      "    accuracy                           0.94      2055\n",
      "   macro avg       0.89      0.57      0.60      2055\n",
      "weighted avg       0.93      0.94      0.91      2055\n",
      "\n",
      "----------------\n",
      "Classification Report: New Data Added\n",
      "              precision    recall  f1-score   support\n",
      "\n",
      "           0       0.99      0.83      0.91      1902\n",
      "           1       0.63      0.98      0.77       556\n",
      "\n",
      "    accuracy                           0.87      2458\n",
      "   macro avg       0.81      0.91      0.84      2458\n",
      "weighted avg       0.91      0.87      0.88      2458\n",
      "\n"
     ]
    }
   ],
   "source": [
    "# Print the classification reports for the two models\n",
    "print(\"Classification Report - Original Data\")\n",
    "print(original_classification_report)\n",
    "print('----------------')\n",
    "print('Classification Report: New Data Added')\n",
    "print(classification_report(y_test, y_pred))"
   ]
  },
  {
   "cell_type": "markdown",
   "metadata": {},
   "source": [
    "## SMOTE 2"
   ]
  },
  {
   "cell_type": "code",
   "execution_count": 51,
   "metadata": {},
   "outputs": [
    {
     "name": "stdout",
     "output_type": "stream",
     "text": [
      "Testing data accuracy score: 0.8991049633848658\n",
      "Training data accuracy score: 1.0\n",
      "Balanced Accuracy Score: 0.9068038944238931\n",
      "---------\n",
      "Classification Report - Original Data\n",
      "              precision    recall  f1-score   support\n",
      "\n",
      "           0       0.94      1.00      0.97      1905\n",
      "           1       0.84      0.14      0.24       150\n",
      "\n",
      "    accuracy                           0.94      2055\n",
      "   macro avg       0.89      0.57      0.60      2055\n",
      "weighted avg       0.93      0.94      0.91      2055\n",
      "\n",
      "---------\n",
      "Classification Report - Resampled and Added Data - SMOTE\n",
      "              precision    recall  f1-score   support\n",
      "\n",
      "           0       0.97      0.89      0.93      1902\n",
      "           1       0.72      0.92      0.81       556\n",
      "\n",
      "    accuracy                           0.90      2458\n",
      "   macro avg       0.84      0.91      0.87      2458\n",
      "weighted avg       0.92      0.90      0.90      2458\n",
      "\n"
     ]
    },
    {
     "data": {
      "text/html": [
       "<style>#sk-container-id-7 {color: black;}#sk-container-id-7 pre{padding: 0;}#sk-container-id-7 div.sk-toggleable {background-color: white;}#sk-container-id-7 label.sk-toggleable__label {cursor: pointer;display: block;width: 100%;margin-bottom: 0;padding: 0.3em;box-sizing: border-box;text-align: center;}#sk-container-id-7 label.sk-toggleable__label-arrow:before {content: \"▸\";float: left;margin-right: 0.25em;color: #696969;}#sk-container-id-7 label.sk-toggleable__label-arrow:hover:before {color: black;}#sk-container-id-7 div.sk-estimator:hover label.sk-toggleable__label-arrow:before {color: black;}#sk-container-id-7 div.sk-toggleable__content {max-height: 0;max-width: 0;overflow: hidden;text-align: left;background-color: #f0f8ff;}#sk-container-id-7 div.sk-toggleable__content pre {margin: 0.2em;color: black;border-radius: 0.25em;background-color: #f0f8ff;}#sk-container-id-7 input.sk-toggleable__control:checked~div.sk-toggleable__content {max-height: 200px;max-width: 100%;overflow: auto;}#sk-container-id-7 input.sk-toggleable__control:checked~label.sk-toggleable__label-arrow:before {content: \"▾\";}#sk-container-id-7 div.sk-estimator input.sk-toggleable__control:checked~label.sk-toggleable__label {background-color: #d4ebff;}#sk-container-id-7 div.sk-label input.sk-toggleable__control:checked~label.sk-toggleable__label {background-color: #d4ebff;}#sk-container-id-7 input.sk-hidden--visually {border: 0;clip: rect(1px 1px 1px 1px);clip: rect(1px, 1px, 1px, 1px);height: 1px;margin: -1px;overflow: hidden;padding: 0;position: absolute;width: 1px;}#sk-container-id-7 div.sk-estimator {font-family: monospace;background-color: #f0f8ff;border: 1px dotted black;border-radius: 0.25em;box-sizing: border-box;margin-bottom: 0.5em;}#sk-container-id-7 div.sk-estimator:hover {background-color: #d4ebff;}#sk-container-id-7 div.sk-parallel-item::after {content: \"\";width: 100%;border-bottom: 1px solid gray;flex-grow: 1;}#sk-container-id-7 div.sk-label:hover label.sk-toggleable__label {background-color: #d4ebff;}#sk-container-id-7 div.sk-serial::before {content: \"\";position: absolute;border-left: 1px solid gray;box-sizing: border-box;top: 0;bottom: 0;left: 50%;z-index: 0;}#sk-container-id-7 div.sk-serial {display: flex;flex-direction: column;align-items: center;background-color: white;padding-right: 0.2em;padding-left: 0.2em;position: relative;}#sk-container-id-7 div.sk-item {position: relative;z-index: 1;}#sk-container-id-7 div.sk-parallel {display: flex;align-items: stretch;justify-content: center;background-color: white;position: relative;}#sk-container-id-7 div.sk-item::before, #sk-container-id-7 div.sk-parallel-item::before {content: \"\";position: absolute;border-left: 1px solid gray;box-sizing: border-box;top: 0;bottom: 0;left: 50%;z-index: -1;}#sk-container-id-7 div.sk-parallel-item {display: flex;flex-direction: column;z-index: 1;position: relative;background-color: white;}#sk-container-id-7 div.sk-parallel-item:first-child::after {align-self: flex-end;width: 50%;}#sk-container-id-7 div.sk-parallel-item:last-child::after {align-self: flex-start;width: 50%;}#sk-container-id-7 div.sk-parallel-item:only-child::after {width: 0;}#sk-container-id-7 div.sk-dashed-wrapped {border: 1px dashed gray;margin: 0 0.4em 0.5em 0.4em;box-sizing: border-box;padding-bottom: 0.4em;background-color: white;}#sk-container-id-7 div.sk-label label {font-family: monospace;font-weight: bold;display: inline-block;line-height: 1.2em;}#sk-container-id-7 div.sk-label-container {text-align: center;}#sk-container-id-7 div.sk-container {/* jupyter's `normalize.less` sets `[hidden] { display: none; }` but bootstrap.min.css set `[hidden] { display: none !important; }` so we also need the `!important` here to be able to override the default hidden behavior on the sphinx rendered scikit-learn.org. See: https://github.com/scikit-learn/scikit-learn/issues/21755 */display: inline-block !important;position: relative;}#sk-container-id-7 div.sk-text-repr-fallback {display: none;}</style><div id=\"sk-container-id-7\" class=\"sk-top-container\"><div class=\"sk-text-repr-fallback\"><pre>RandomForestClassifier()</pre><b>In a Jupyter environment, please rerun this cell to show the HTML representation or trust the notebook. <br />On GitHub, the HTML representation is unable to render, please try loading this page with nbviewer.org.</b></div><div class=\"sk-container\" hidden><div class=\"sk-item\"><div class=\"sk-estimator sk-toggleable\"><input class=\"sk-toggleable__control sk-hidden--visually\" id=\"sk-estimator-id-7\" type=\"checkbox\" checked><label for=\"sk-estimator-id-7\" class=\"sk-toggleable__label sk-toggleable__label-arrow\">RandomForestClassifier</label><div class=\"sk-toggleable__content\"><pre>RandomForestClassifier()</pre></div></div></div></div></div>"
      ],
      "text/plain": [
       "RandomForestClassifier()"
      ]
     },
     "execution_count": 51,
     "metadata": {},
     "output_type": "execute_result"
    }
   ],
   "source": [
    "def generate_smote_models(X_train_scaled, y_train, X_test_scaled, y_test, original_classification_report):\n",
    "    # Instantiate the SMOTE instance \n",
    "    # Set the sampling_strategy parameter equal to auto\n",
    "    smote_sampler = SMOTE(random_state=1, sampling_strategy='auto')\n",
    "    # Fit the training data to the smote_sampler model\n",
    "    X_resampled_smote, y_resampled_smote = smote_sampler.fit_resample(X_train_scaled, y_train)\n",
    "    # Instantiate a new RandomForestClassier model \n",
    "    smote_model = RandomForestClassifier()\n",
    "\n",
    "    # Fit the resampled data to the new model\n",
    "    smote_model.fit(X_resampled_smote, y_resampled_smote)\n",
    "    # Predict labels for resampled testing features\n",
    "    smote_y_pred = smote_model.predict(X_test_scaled)\n",
    "    # Calculate the accuracy of the model on the testing data\n",
    "    print(f\"Testing data accuracy score: {smote_model.score(X_test_scaled, y_test)}\")\n",
    "\n",
    "    # Calculate the accuracy of the model on the training data\n",
    "    print(f\"Training data accuracy score: {smote_model.score(X_resampled_smote, y_resampled_smote)}\")\n",
    "\n",
    "    # Check the model's balanced accuracy on the test set\n",
    "    print(f\"Balanced Accuracy Score: {balanced_accuracy_score(y_test, smote_y_pred)}\")\n",
    "    print('---------')\n",
    "    print(f\"Classification Report - Original Data\")\n",
    "    print(original_classification_report)\n",
    "    print(\"---------\")\n",
    "    print(f\"Classification Report - Resampled and Added Data - SMOTE\")\n",
    "    print(classification_report(y_test, smote_y_pred))\n",
    "    return smote_model\n",
    "\n",
    "generate_smote_models(X_train_scaled, y_train, X_test_scaled, y_test, original_classification_report)"
   ]
  },
  {
   "cell_type": "code",
   "execution_count": null,
   "metadata": {},
   "outputs": [],
   "source": []
  },
  {
   "cell_type": "markdown",
   "metadata": {},
   "source": [
    "Classification Report: New Data Added\n",
    "              precision    recall  f1-score   support\n",
    "\n",
    "           0       0.99      0.83      0.91      1902\n",
    "           1       0.63      0.98      0.77       556\n",
    "\n",
    "    accuracy                           0.87      2458\n",
    "   macro avg       0.81      0.91      0.84      2458\n",
    "weighted avg       0.91      0.87      0.88      2458\n",
    "---------\n",
    "Classification Report - Resampled and Added Data - SMOTE\n",
    "              precision    recall  f1-score   support\n",
    "\n",
    "           0       0.98      0.88      0.93      1902\n",
    "           1       0.70      0.92      0.80       556\n",
    "\n",
    "    accuracy                           0.89      2458\n",
    "   macro avg       0.84      0.90      0.86      2458\n",
    "weighted avg       0.91      0.89      0.90      2458"
   ]
  },
  {
   "cell_type": "markdown",
   "metadata": {},
   "source": [
    "### Comparison:\n",
    "\n",
    "#### Class 0:\n",
    "- **Precision:** Both models are very high (0.99 vs. 0.98), with the new data model slightly higher.\n",
    "- **Recall:** The SMOTE model has higher recall (0.88 vs. 0.83).\n",
    "- **F1-score:** The SMOTE model is slightly better (0.93 vs. 0.91).\n",
    "\n",
    "#### Class 1:\n",
    "- **Precision:** The SMOTE model is better (0.70 vs. 0.63).\n",
    "- **Recall:** The new data model is higher (0.98 vs. 0.92).\n",
    "- **F1-score:** The SMOTE model is better (0.80 vs. 0.77).\n",
    "\n",
    "#### Overall Performance:\n",
    "- **Accuracy:** The SMOTE model is slightly better (0.89 vs. 0.87).\n",
    "- **Macro avg:**\n",
    "  - **Precision:** The SMOTE model is better (0.84 vs. 0.81).\n",
    "  - **Recall:** The new data model is better (0.91 vs. 0.90).\n",
    "  - **F1-score:** The SMOTE model is better (0.86 vs. 0.84).\n",
    "- **Weighted avg:**\n",
    "  - **Precision:** Both models are the same (0.91).\n",
    "  - **Recall:** The SMOTE model is better (0.89 vs. 0.87).\n",
    "  - **F1-score:** The SMOTE model is better (0.90 vs. 0.88).\n",
    "\n",
    "### Conclusion:\n",
    "\n",
    "The **Resampled and Added Data - SMOTE** model is generally better. It shows improvements in precision, recall, and F1-score for class 1 (the minority class), which is crucial for this application. It also provides slightly better overall performance metrics, indicating a more balanced and effective model.\n",
    "\n",
    "Therefore, the **Resampled and Added Data - SMOTE** model is the better choice."
   ]
  }
 ],
 "metadata": {
  "kernelspec": {
   "display_name": "dev",
   "language": "python",
   "name": "python3"
  },
  "language_info": {
   "codemirror_mode": {
    "name": "ipython",
    "version": 3
   },
   "file_extension": ".py",
   "mimetype": "text/x-python",
   "name": "python",
   "nbconvert_exporter": "python",
   "pygments_lexer": "ipython3",
   "version": "3.10.13"
  }
 },
 "nbformat": 4,
 "nbformat_minor": 2
}
